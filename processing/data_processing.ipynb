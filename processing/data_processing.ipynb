{
 "cells": [
  {
   "cell_type": "markdown",
   "id": "f0afc6d4",
   "metadata": {},
   "source": [
    "# Data Processing Code"
   ]
  },
  {
   "cell_type": "markdown",
   "id": "3dd1e1c0",
   "metadata": {},
   "source": [
    "## Install libraries"
   ]
  },
  {
   "cell_type": "code",
   "execution_count": null,
   "id": "bb6f295b",
   "metadata": {},
   "outputs": [
    {
     "name": "stdout",
     "output_type": "stream",
     "text": [
      "Requirement already satisfied: netCDF4 in c:\\users\\paul_\\anaconda3\\lib\\site-packages (1.7.2)\n",
      "Requirement already satisfied: cftime in c:\\users\\paul_\\anaconda3\\lib\\site-packages (from netCDF4) (1.6.4.post1)\n",
      "Requirement already satisfied: certifi in c:\\users\\paul_\\anaconda3\\lib\\site-packages (from netCDF4) (2025.4.26)\n",
      "Requirement already satisfied: numpy in c:\\users\\paul_\\anaconda3\\lib\\site-packages (from netCDF4) (1.26.4)\n"
     ]
    }
   ],
   "source": [
    "# install libraries\n",
    "# !pip install xarray netcdf4 pandas"
   ]
  },
  {
   "cell_type": "markdown",
   "id": "1fbfe9f9",
   "metadata": {},
   "source": [
    "## Import libraries"
   ]
  },
  {
   "cell_type": "code",
   "execution_count": 2,
   "id": "6f7648f4",
   "metadata": {},
   "outputs": [],
   "source": [
    "# import libraries\n",
    "import xarray as xr"
   ]
  },
  {
   "cell_type": "markdown",
   "id": "0ecf8d7e",
   "metadata": {},
   "source": [
    "## Playground"
   ]
  },
  {
   "cell_type": "markdown",
   "id": "0f98499b",
   "metadata": {},
   "source": [
    "The playground provides a space for users to play around with code and experiment with the data"
   ]
  },
  {
   "cell_type": "code",
   "execution_count": 3,
   "id": "97e51852",
   "metadata": {},
   "outputs": [],
   "source": [
    "# example data importation\n",
    "play = xr.open_dataset(\"..\\\\data\\\\raw_data\\\\era5_downloads\\\\era5_us_2020_01.nc\", engine = \"netcdf4\")"
   ]
  },
  {
   "cell_type": "code",
   "execution_count": 4,
   "id": "6f4eb310",
   "metadata": {},
   "outputs": [],
   "source": [
    "# convert to dataframe\n",
    "play_df = play.to_dataframe()"
   ]
  },
  {
   "cell_type": "code",
   "execution_count": 5,
   "id": "5f10b9fe",
   "metadata": {},
   "outputs": [
    {
     "name": "stdout",
     "output_type": "stream",
     "text": [
      "                                        number expver       u10       v10  \\\n",
      "valid_time          latitude longitude                                      \n",
      "2020-01-31 23:00:00 18.9     -68.10          0   0001 -3.658166 -3.355125   \n",
      "                             -67.85          0   0001 -3.660119 -3.796532   \n",
      "                             -67.60          0   0001 -4.077111 -3.681297   \n",
      "                             -67.35          0   0001 -4.454064 -3.382469   \n",
      "                             -67.10          0   0001 -4.781701 -2.624657   \n",
      "\n",
      "                                               d2m         t2m         msl  \\\n",
      "valid_time          latitude longitude                                       \n",
      "2020-01-31 23:00:00 18.9     -68.10     295.558838  299.283569  101750.750   \n",
      "                             -67.85     295.584229  299.312866  101754.000   \n",
      "                             -67.60     295.597900  299.314819  101756.500   \n",
      "                             -67.35     295.543213  299.342163  101759.500   \n",
      "                             -67.10     295.590088  299.328491  101764.875   \n",
      "\n",
      "                                                 sp  \n",
      "valid_time          latitude longitude               \n",
      "2020-01-31 23:00:00 18.9     -68.10     101779.9375  \n",
      "                             -67.85     101772.9375  \n",
      "                             -67.60     101753.9375  \n",
      "                             -67.35     101747.9375  \n",
      "                             -67.10     101767.9375  \n"
     ]
    }
   ],
   "source": [
    "# Show the first few rows\n",
    "print(play_df.tail())"
   ]
  }
 ],
 "metadata": {
  "kernelspec": {
   "display_name": "base",
   "language": "python",
   "name": "python3"
  },
  "language_info": {
   "codemirror_mode": {
    "name": "ipython",
    "version": 3
   },
   "file_extension": ".py",
   "mimetype": "text/x-python",
   "name": "python",
   "nbconvert_exporter": "python",
   "pygments_lexer": "ipython3",
   "version": "3.12.7"
  }
 },
 "nbformat": 4,
 "nbformat_minor": 5
}
