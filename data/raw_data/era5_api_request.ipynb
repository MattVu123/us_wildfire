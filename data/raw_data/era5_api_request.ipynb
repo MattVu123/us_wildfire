{
 "cells": [
  {
   "cell_type": "markdown",
   "id": "df902019",
   "metadata": {},
   "source": [
    "# API Request"
   ]
  },
  {
   "cell_type": "code",
   "execution_count": null,
   "id": "e73d3c5a",
   "metadata": {},
   "outputs": [],
   "source": [
    "import cdsapi\n",
    "from pathlib import Path\n",
    "import zipfile"
   ]
  },
  {
   "cell_type": "code",
   "execution_count": null,
   "id": "818ead3f",
   "metadata": {},
   "outputs": [],
   "source": [
    "# ===============================\n",
    "# CONFIGURATION – EASY TO MODIFY\n",
    "# ===============================\n",
    "years = range(2020, 2026)  # From 2020 to 2025 inclusive\n",
    "months = range(1, 13)      # January to December\n",
    "area = [71.5, -179.1, 18.9, -66.9]  # US bounding box: [N, W, S, E]\n",
    "output_dir = Path.cwd() / \"era5_downloads\"\n",
    "output_dir.mkdir(exist_ok=True)\n",
    "\n",
    "variables = [\n",
    "    \"10m_u_component_of_wind\",\n",
    "    \"10m_v_component_of_wind\",\n",
    "    \"2m_dewpoint_temperature\",\n",
    "    \"2m_temperature\",\n",
    "    \"total_precipitation\",\n",
    "    \"mean_sea_level_pressure\",\n",
    "    \"surface_pressure\"\n",
    "]\n",
    "\n",
    "# ===============================\n",
    "# Download + Extract loop\n",
    "# ===============================\n",
    "client = cdsapi.Client()\n",
    "\n",
    "for year in years:\n",
    "    for month in months:\n",
    "        year_str = str(year)\n",
    "        month_str = str(month).zfill(2)\n",
    "        days = [str(day).zfill(2) for day in range(1, 32)]  # CDS handles invalid days\n",
    "\n",
    "        request = {\n",
    "            \"product_type\": \"reanalysis\",\n",
    "            \"variable\": variables,\n",
    "            \"year\": year_str,\n",
    "            \"month\": month_str,\n",
    "            \"day\": days,\n",
    "            \"time\": [f\"{h:02d}:00\" for h in range(24)],\n",
    "            \"data_format\": \"netcdf\",\n",
    "            \"download_format\": \"zip\",\n",
    "            \"area\": area,\n",
    "        }\n",
    "\n",
    "        zip_filename = output_dir / f\"era5_us_{year_str}_{month_str}.zip\"\n",
    "        print(f\"Downloading ERA5 data for {year_str}-{month_str}...\")\n",
    "\n",
    "        try:\n",
    "            client.retrieve(\"reanalysis-era5-single-levels\", request, str(zip_filename))\n",
    "            print(f\"✔ Saved to {zip_filename}\")\n",
    "\n",
    "            # Extract only the data_stream-oper_stepType-instant.nc file\n",
    "            with zipfile.ZipFile(zip_filename, 'r') as zip_ref:\n",
    "                target_file = \"data_stream-oper_stepType-instant.nc\"\n",
    "                if target_file in zip_ref.namelist():\n",
    "                    print(f\"Extracting {target_file}...\")\n",
    "                    zip_ref.extract(target_file, path=output_dir)\n",
    "                    extracted_path = output_dir / target_file\n",
    "\n",
    "                    # Rename extracted file\n",
    "                    new_nc_filename = output_dir / f\"era5_us_{year_str}_{month_str}.nc\"\n",
    "                    extracted_path.rename(new_nc_filename)\n",
    "                    print(f\"✔ Extracted and renamed to {new_nc_filename}\")\n",
    "                else:\n",
    "                    print(f\"⚠️ {target_file} not found in zip {zip_filename.name}\")\n",
    "\n",
    "            # Remove the zip file after extraction\n",
    "            zip_filename.unlink()\n",
    "            print(f\"Deleted zip file {zip_filename.name}\")\n",
    "\n",
    "        except Exception as e:\n",
    "            print(f\"✘ Failed for {year_str}-{month_str}: {e}\")\n"
   ]
  },
  {
   "cell_type": "code",
   "execution_count": null,
   "id": "be5a3d42",
   "metadata": {},
   "outputs": [],
   "source": []
  }
 ],
 "metadata": {
  "kernelspec": {
   "display_name": "base",
   "language": "python",
   "name": "python3"
  },
  "language_info": {
   "codemirror_mode": {
    "name": "ipython",
    "version": 3
   },
   "file_extension": ".py",
   "mimetype": "text/x-python",
   "name": "python",
   "nbconvert_exporter": "python",
   "pygments_lexer": "ipython3",
   "version": "3.12.7"
  }
 },
 "nbformat": 4,
 "nbformat_minor": 5
}
