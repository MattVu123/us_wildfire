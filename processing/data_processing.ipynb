{
 "cells": [
  {
   "cell_type": "markdown",
   "id": "f0afc6d4",
   "metadata": {},
   "source": [
    "# Data Processing Code"
   ]
  },
  {
   "cell_type": "markdown",
   "id": "3dd1e1c0",
   "metadata": {},
   "source": [
    "## Install libraries"
   ]
  },
  {
   "cell_type": "code",
   "execution_count": 17,
   "id": "bb6f295b",
   "metadata": {},
   "outputs": [
    {
     "name": "stdout",
     "output_type": "stream",
     "text": [
      "Requirement already satisfied: xarray in c:\\users\\paul_\\anaconda3\\lib\\site-packages (2023.6.0)\n",
      "Requirement already satisfied: netcdf4 in c:\\users\\paul_\\anaconda3\\lib\\site-packages (1.7.2)\n",
      "Requirement already satisfied: pandas in c:\\users\\paul_\\anaconda3\\lib\\site-packages (2.2.2)\n",
      "Collecting geopandas\n",
      "  Downloading geopandas-1.1.0-py3-none-any.whl.metadata (2.3 kB)\n",
      "Requirement already satisfied: numpy>=1.21 in c:\\users\\paul_\\anaconda3\\lib\\site-packages (from xarray) (1.26.4)\n",
      "Requirement already satisfied: packaging>=21.3 in c:\\users\\paul_\\anaconda3\\lib\\site-packages (from xarray) (24.1)\n",
      "Requirement already satisfied: cftime in c:\\users\\paul_\\anaconda3\\lib\\site-packages (from netcdf4) (1.6.4.post1)\n",
      "Requirement already satisfied: certifi in c:\\users\\paul_\\anaconda3\\lib\\site-packages (from netcdf4) (2025.4.26)\n",
      "Requirement already satisfied: python-dateutil>=2.8.2 in c:\\users\\paul_\\anaconda3\\lib\\site-packages (from pandas) (2.9.0.post0)\n",
      "Requirement already satisfied: pytz>=2020.1 in c:\\users\\paul_\\anaconda3\\lib\\site-packages (from pandas) (2024.1)\n",
      "Requirement already satisfied: tzdata>=2022.7 in c:\\users\\paul_\\anaconda3\\lib\\site-packages (from pandas) (2023.3)\n",
      "Collecting pyogrio>=0.7.2 (from geopandas)\n",
      "  Downloading pyogrio-0.11.0-cp312-cp312-win_amd64.whl.metadata (5.4 kB)\n",
      "Collecting pyproj>=3.5.0 (from geopandas)\n",
      "  Downloading pyproj-3.7.1-cp312-cp312-win_amd64.whl.metadata (31 kB)\n",
      "Collecting shapely>=2.0.0 (from geopandas)\n",
      "  Downloading shapely-2.1.1-cp312-cp312-win_amd64.whl.metadata (7.0 kB)\n",
      "Requirement already satisfied: six>=1.5 in c:\\users\\paul_\\anaconda3\\lib\\site-packages (from python-dateutil>=2.8.2->pandas) (1.16.0)\n",
      "Downloading geopandas-1.1.0-py3-none-any.whl (338 kB)\n",
      "Downloading pyogrio-0.11.0-cp312-cp312-win_amd64.whl (19.2 MB)\n",
      "   ---------------------------------------- 0.0/19.2 MB ? eta -:--:--\n",
      "   ---------------- ----------------------- 7.9/19.2 MB 40.7 MB/s eta 0:00:01\n",
      "   ---------------------------------- ----- 16.5/19.2 MB 41.7 MB/s eta 0:00:01\n",
      "   ---------------------------------------- 19.2/19.2 MB 37.8 MB/s eta 0:00:00\n",
      "Downloading pyproj-3.7.1-cp312-cp312-win_amd64.whl (6.3 MB)\n",
      "   ---------------------------------------- 0.0/6.3 MB ? eta -:--:--\n",
      "   ---------------------------------------- 6.3/6.3 MB 34.9 MB/s eta 0:00:00\n",
      "Downloading shapely-2.1.1-cp312-cp312-win_amd64.whl (1.7 MB)\n",
      "   ---------------------------------------- 0.0/1.7 MB ? eta -:--:--\n",
      "   ---------------------------------------- 1.7/1.7 MB 30.7 MB/s eta 0:00:00\n",
      "Installing collected packages: shapely, pyproj, pyogrio, geopandas\n",
      "Successfully installed geopandas-1.1.0 pyogrio-0.11.0 pyproj-3.7.1 shapely-2.1.1\n"
     ]
    }
   ],
   "source": [
    "# install libraries\n",
    "! pip install xarray netcdf4 pandas geopandas"
   ]
  },
  {
   "cell_type": "markdown",
   "id": "1fbfe9f9",
   "metadata": {},
   "source": [
    "## Import libraries"
   ]
  },
  {
   "cell_type": "code",
   "execution_count": 18,
   "id": "6f7648f4",
   "metadata": {},
   "outputs": [],
   "source": [
    "# import libraries\n",
    "import xarray as xr\n",
    "import pandas as pd\n",
    "import geopandas as gpd"
   ]
  },
  {
   "cell_type": "markdown",
   "id": "0ecf8d7e",
   "metadata": {},
   "source": [
    "## Playground"
   ]
  },
  {
   "cell_type": "markdown",
   "id": "0f98499b",
   "metadata": {},
   "source": [
    "The playground provides a space for users to play around with code and experiment with the data"
   ]
  },
  {
   "cell_type": "code",
   "execution_count": null,
   "id": "97e51852",
   "metadata": {},
   "outputs": [],
   "source": [
    "# example era5 data importation\n",
    "era5_play = xr.open_dataset(\"..\\\\data\\\\raw_data\\\\era5_downloads\\\\era5_us_2020_01.nc\", engine = \"netcdf4\")"
   ]
  },
  {
   "cell_type": "code",
   "execution_count": null,
   "id": "6f4eb310",
   "metadata": {},
   "outputs": [],
   "source": [
    "# convert era5 to dataframe\n",
    "era5_play = era5_play.to_dataframe()"
   ]
  },
  {
   "cell_type": "code",
   "execution_count": null,
   "id": "5f10b9fe",
   "metadata": {},
   "outputs": [
    {
     "name": "stdout",
     "output_type": "stream",
     "text": [
      "                                        number expver       u10       v10  \\\n",
      "valid_time          latitude longitude                                      \n",
      "2020-01-31 23:00:00 18.9     -68.10          0   0001 -3.658166 -3.355125   \n",
      "                             -67.85          0   0001 -3.660119 -3.796532   \n",
      "                             -67.60          0   0001 -4.077111 -3.681297   \n",
      "                             -67.35          0   0001 -4.454064 -3.382469   \n",
      "                             -67.10          0   0001 -4.781701 -2.624657   \n",
      "\n",
      "                                               d2m         t2m         msl  \\\n",
      "valid_time          latitude longitude                                       \n",
      "2020-01-31 23:00:00 18.9     -68.10     295.558838  299.283569  101750.750   \n",
      "                             -67.85     295.584229  299.312866  101754.000   \n",
      "                             -67.60     295.597900  299.314819  101756.500   \n",
      "                             -67.35     295.543213  299.342163  101759.500   \n",
      "                             -67.10     295.590088  299.328491  101764.875   \n",
      "\n",
      "                                                 sp  \n",
      "valid_time          latitude longitude               \n",
      "2020-01-31 23:00:00 18.9     -68.10     101779.9375  \n",
      "                             -67.85     101772.9375  \n",
      "                             -67.60     101753.9375  \n",
      "                             -67.35     101747.9375  \n",
      "                             -67.10     101767.9375  \n"
     ]
    }
   ],
   "source": [
    "# Show the first few rows of era5\n",
    "print(era5_play.tail())"
   ]
  },
  {
   "cell_type": "markdown",
   "id": "d4b5f389",
   "metadata": {},
   "source": [
    "## Process the fire perimeter data"
   ]
  },
  {
   "cell_type": "code",
   "execution_count": 68,
   "id": "2cfb971f",
   "metadata": {},
   "outputs": [
    {
     "name": "stderr",
     "output_type": "stream",
     "text": [
      "C:\\Users\\Paul_\\AppData\\Local\\Temp\\ipykernel_30736\\3186664528.py:2: DtypeWarning: Columns (82,119) have mixed types. Specify dtype option on import or set low_memory=False.\n",
      "  wfigs_perims = pd.read_csv(\"..\\\\data\\\\raw_data\\\\WFIGS Current Interagency Fire Perimeters\\\\WFIGS_Interagency_Perimeters_-3500393626074286023.csv\")\n"
     ]
    }
   ],
   "source": [
    "# Load CSV into DataFrame\n",
    "wfigs_perims = pd.read_csv(\"..\\\\data\\\\raw_data\\\\WFIGS Current Interagency Fire Perimeters\\\\WFIGS_Interagency_Perimeters_-3500393626074286023.csv\")"
   ]
  },
  {
   "cell_type": "code",
   "execution_count": 69,
   "id": "20243258",
   "metadata": {},
   "outputs": [
    {
     "name": "stdout",
     "output_type": "stream",
     "text": [
      "['OBJECTID', 'poly_SourceOID', 'poly_IncidentName', 'poly_FeatureCategory', 'poly_MapMethod', 'poly_GISAcres', 'poly_DeleteThis', 'poly_FeatureAccess', 'poly_FeatureStatus', 'poly_IsVisible', 'poly_CreateDate', 'poly_DateCurrent', 'poly_PolygonDateTime', 'poly_IRWINID', 'poly_FORID', 'poly_Acres_AutoCalc', 'poly_SourceGlobalID', 'poly_Source', 'attr_SourceOID', 'attr_ABCDMisc', 'attr_ADSPermissionState', 'attr_CalculatedAcres', 'attr_ContainmentDateTime', 'attr_ControlDateTime', 'attr_CreatedBySystem', 'attr_IncidentSize', 'attr_DiscoveryAcres', 'attr_DispatchCenterID', 'attr_EstimatedCostToDate', 'attr_FinalAcres', 'attr_FFReportApprovedByTitle', 'attr_FFReportApprovedByUnit', 'attr_FFReportApprovedDate', 'attr_FireBehaviorGeneral', 'attr_FireBehaviorGeneral1', 'attr_FireBehaviorGeneral2', 'attr_FireBehaviorGeneral3', 'attr_FireCause', 'attr_FireCauseGeneral', 'attr_FireCauseSpecific', 'attr_FireCode', 'attr_FireDepartmentID', 'attr_FireDiscoveryDateTime', 'attr_FireMgmtComplexity', 'attr_FireOutDateTime', 'attr_FireStrategyConfinePercent', 'attr_FireStrategyFullSuppPrcnt', 'attr_FireStrategyMonitorPercent', 'attr_FireStrategyPointZonePrcnt', 'attr_FSJobCode', 'attr_FSOverrideCode', 'attr_GACC', 'attr_ICS209ReportDateTime', 'attr_ICS209RptForTimePeriodFrom', 'attr_ICS209RptForTimePeriodTo', 'attr_ICS209ReportStatus', 'attr_IncidentManagementOrg', 'attr_IncidentName', 'attr_IncidentShortDescription', 'attr_IncidentTypeCategory', 'attr_IncidentTypeKind', 'attr_InitialLatitude', 'attr_InitialLongitude', 'attr_InitialResponseAcres', 'attr_InitialResponseDateTime', 'attr_IrwinID', 'attr_IsFireCauseInvestigated', 'attr_IsFireCodeRequested', 'attr_IsFSAssisted', 'attr_IsMultiJurisdictional', 'attr_IsQuarantined', 'attr_IsReimbursable', 'attr_IsTrespass', 'attr_IsUnifiedCommand', 'attr_IsValid', 'attr_LocalIncidentIdentifier', 'attr_ModifiedBySystem', 'attr_PercentContained', 'attr_PercentPerimToBeContained', 'attr_POOCity', 'attr_POOCounty', 'attr_POODispatchCenterID', 'attr_POOFips', 'attr_POOJurisdictionalAgency', 'attr_POOJurisdictionalUnit', 'attr_POOJurisdictUnitParentUnit', 'attr_POOLandownerCategory', 'attr_POOLandownerKind', 'attr_POOLegalDescPrincipalMerid', 'attr_POOLegalDescQtr', 'attr_POOLegalDescQtrQtr', 'attr_POOLegalDescRange', 'attr_POOLegalDescSection', 'attr_POOLegalDescTownship', 'attr_POOPredictiveServiceAreaID', 'attr_POOProtectingAgency', 'attr_POOProtectingUnit', 'attr_POOState', 'attr_PredominantFuelGroup', 'attr_PredominantFuelModel', 'attr_PrimaryFuelModel', 'attr_SecondaryFuelModel', 'attr_TotalIncidentPersonnel', 'attr_UniqueFireIdentifier', 'attr_FORID', 'attr_WFDSSDecisionStatus', 'attr_EstimatedFinalCost', 'attr_OrganizationalAssessment', 'attr_StratDecisionPublishDate', 'attr_CreatedOnDateTime_dt', 'attr_ModifiedOnDateTime_dt', 'attr_Source', 'attr_IsCpxChild', 'attr_CpxName', 'attr_CpxID', 'attr_SourceGlobalID', 'GlobalID', 'Shape__Area', 'Shape__Length', 'attr_IncidentComplexityLevel']\n",
      "   OBJECTID  poly_SourceOID poly_IncidentName           poly_FeatureCategory  \\\n",
      "0        12             NaN      PULLEN CREEK  Wildfire Daily Fire Perimeter   \n",
      "1        17             NaN        Bolt Creek  Wildfire Daily Fire Perimeter   \n",
      "2        21             NaN       Cedar Creek  Wildfire Daily Fire Perimeter   \n",
      "3        22         52195.0            Musket  Wildfire Daily Fire Perimeter   \n",
      "4        23             NaN          Saltillo  Wildfire Daily Fire Perimeter   \n",
      "\n",
      "            poly_MapMethod  poly_GISAcres poly_DeleteThis poly_FeatureAccess  \\\n",
      "0               GPS-Walked      19.500000              No             Public   \n",
      "1            Mixed Methods   14820.544258              No             Public   \n",
      "2  IR Image Interpretation  127310.968593              No             Public   \n",
      "3              Hand Sketch       0.360000              No             Public   \n",
      "4            Mixed Methods     120.897078              No             Public   \n",
      "\n",
      "  poly_FeatureStatus poly_IsVisible  ... attr_ModifiedOnDateTime_dt  \\\n",
      "0           Approved            Yes  ...      12/28/2022 9:59:46 PM   \n",
      "1           Approved            Yes  ...      9/20/2023 10:48:30 PM   \n",
      "2           Approved            Yes  ...       3/19/2025 4:42:43 PM   \n",
      "3           Approved            Yes  ...     12/19/2022 10:30:25 PM   \n",
      "4           Approved            Yes  ...      12/22/2022 4:21:10 PM   \n",
      "\n",
      "  attr_Source attr_IsCpxChild attr_CpxName attr_CpxID  \\\n",
      "0       IRWIN             0.0          NaN        NaN   \n",
      "1       IRWIN             0.0          NaN        NaN   \n",
      "2       IRWIN             0.0          NaN        NaN   \n",
      "3       IRWIN             0.0          NaN        NaN   \n",
      "4       IRWIN             0.0          NaN        NaN   \n",
      "\n",
      "                      attr_SourceGlobalID  \\\n",
      "0  {5D73EEC4-8D85-4843-9D9C-141731517538}   \n",
      "1  {67F475B6-B2B7-460A-B4DF-601B8E614F3A}   \n",
      "2  {21BB61C1-C479-4721-8295-9120974092D2}   \n",
      "3  {3DA6FD6E-78F0-4334-8F8A-4237117BD8E1}   \n",
      "4  {375B387E-B68C-4941-AFBA-A808799D6EA4}   \n",
      "\n",
      "                               GlobalID Shape__Area  Shape__Length  \\\n",
      "0  e78d410b-99d1-495e-867e-70d9849988f5    0.000009       0.017515   \n",
      "1  2cae4fc6-27e0-43ae-8f7f-d1bbded23c32    0.007195       1.601665   \n",
      "2  f00c42c6-8f11-4fee-9d50-f293d9f51ea0    0.057600       4.850371   \n",
      "3  1ca86506-881c-4cbf-a6e1-77ad6ad6c59b    0.000002       0.006301   \n",
      "4  fb01da94-c49e-42ce-923d-ddcf7d26b92f    0.000046       0.038010   \n",
      "\n",
      "  attr_IncidentComplexityLevel  \n",
      "0                          NaN  \n",
      "1                          NaN  \n",
      "2                          NaN  \n",
      "3                          NaN  \n",
      "4                          NaN  \n",
      "\n",
      "[5 rows x 120 columns]\n"
     ]
    }
   ],
   "source": [
    "# view the data\n",
    "print(wfigs_perims.columns.tolist())\n",
    "print(wfigs_perims.head())"
   ]
  },
  {
   "cell_type": "code",
   "execution_count": 73,
   "id": "6f6e2691",
   "metadata": {},
   "outputs": [
    {
     "name": "stdout",
     "output_type": "stream",
     "text": [
      "26\n",
      "['2021-AZSCA-001676' '2021-CAMDF-000577' '2021-CALPF-001493'\n",
      " '2020-AZTNF-002514' '2020-WYCOX-200312' '2022-MIHMF-220119'\n",
      " '2021-COSJF-001044' '2020-AZASF-000689' '2022-NVWID-020365'\n",
      " '2020-IDNCF-000069' '2020-IDBOD-000518' '2021-CACDD-006676'\n",
      " '2023-SDSDS-230189' '2023-MN3SS-000019' '2023-AKMID-000293'\n",
      " '2023-AZASF-000170' '2023-AZASF-000611' '2024-WIWIS-FIRE122391'\n",
      " '2024-WIWIS-FIRE121832' '2024-FLBCP-001015' '2024-AZTNF-001334'\n",
      " '2024-WVNRP-000359' '2025-WIWIS-FIRE123428' '2025-WIWIS-FIRE123459'\n",
      " '2025-NDFTA-000265' '2025-WIWIS-FIRE123935']\n"
     ]
    }
   ],
   "source": [
    "willow_fires = wfigs_perims[wfigs_perims[\"poly_IncidentName\"] == \"Willow\"]\n",
    "print(willow_fires[\"attr_UniqueFireIdentifier\"].nunique())\n",
    "print(willow_fires[\"attr_UniqueFireIdentifier\"].unique())\n"
   ]
  },
  {
   "cell_type": "code",
   "execution_count": 77,
   "id": "60f8a4f9",
   "metadata": {},
   "outputs": [
    {
     "name": "stdout",
     "output_type": "stream",
     "text": [
      "--- Fire ID: 2021-AZSCA-001676 ---\n",
      "            date  poly_GISAcres\n",
      "1253  2021-06-29            5.0\n",
      "\n",
      "\n",
      "--- Fire ID: 2021-CAMDF-000577 ---\n",
      "     date  poly_GISAcres\n",
      "2802  NaT            NaN\n",
      "\n",
      "\n",
      "--- Fire ID: 2021-CALPF-001493 ---\n",
      "     date  poly_GISAcres\n",
      "5426  NaT       2877.869\n",
      "\n",
      "\n",
      "--- Fire ID: 2020-AZTNF-002514 ---\n",
      "            date  poly_GISAcres\n",
      "5727  2020-08-18            3.0\n",
      "\n",
      "\n",
      "--- Fire ID: 2020-WYCOX-200312 ---\n",
      "     date  poly_GISAcres\n",
      "5918  NaT            NaN\n",
      "\n",
      "\n",
      "--- Fire ID: 2022-MIHMF-220119 ---\n",
      "            date  poly_GISAcres\n",
      "8479  2022-08-05            0.1\n",
      "\n",
      "\n",
      "--- Fire ID: 2021-COSJF-001044 ---\n",
      "            date  poly_GISAcres\n",
      "8860  2021-08-07            0.1\n",
      "\n",
      "\n",
      "--- Fire ID: 2020-AZASF-000689 ---\n",
      "            date  poly_GISAcres\n",
      "9090  2021-01-05            NaN\n",
      "\n",
      "\n",
      "--- Fire ID: 2022-NVWID-020365 ---\n",
      "             date  poly_GISAcres\n",
      "12083  2022-08-02           0.31\n",
      "\n",
      "\n",
      "--- Fire ID: 2020-IDNCF-000069 ---\n",
      "      date  poly_GISAcres\n",
      "12117  NaT            NaN\n",
      "\n",
      "\n",
      "--- Fire ID: 2020-IDBOD-000518 ---\n",
      "             date  poly_GISAcres\n",
      "12365  2020-09-14       134.5707\n",
      "\n",
      "\n",
      "--- Fire ID: 2021-CACDD-006676 ---\n",
      "             date  poly_GISAcres\n",
      "13718  2021-04-21          31.77\n",
      "\n",
      "\n",
      "--- Fire ID: 2023-SDSDS-230189 ---\n",
      "             date  poly_GISAcres\n",
      "15309  2023-05-23            0.2\n",
      "\n",
      "\n",
      "--- Fire ID: 2023-MN3SS-000019 ---\n",
      "             date  poly_GISAcres\n",
      "16538  2023-08-11            0.1\n",
      "\n",
      "\n",
      "--- Fire ID: 2023-AKMID-000293 ---\n",
      "             date  poly_GISAcres\n",
      "16976  2023-08-22       5.367455\n",
      "\n",
      "\n",
      "--- Fire ID: 2023-AZASF-000170 ---\n",
      "             date  poly_GISAcres\n",
      "18797  2023-11-13       1354.258\n",
      "\n",
      "\n",
      "--- Fire ID: 2023-AZASF-000611 ---\n",
      "             date  poly_GISAcres\n",
      "18831  2023-11-14       400.8596\n",
      "\n",
      "\n",
      "--- Fire ID: 2024-WIWIS-FIRE122391 ---\n",
      "             date  poly_GISAcres\n",
      "21333  2024-04-25           1.15\n",
      "\n",
      "\n",
      "--- Fire ID: 2024-WIWIS-FIRE121832 ---\n",
      "             date  poly_GISAcres\n",
      "21366  2024-03-02           0.17\n",
      "\n",
      "\n",
      "--- Fire ID: 2024-FLBCP-001015 ---\n",
      "             date  poly_GISAcres\n",
      "22643  2024-12-11            0.5\n",
      "\n",
      "\n",
      "--- Fire ID: 2024-AZTNF-001334 ---\n",
      "             date  poly_GISAcres\n",
      "23944  2024-10-03           51.6\n",
      "\n",
      "\n",
      "--- Fire ID: 2024-WVNRP-000359 ---\n",
      "             date  poly_GISAcres\n",
      "25949  2024-12-16            0.1\n",
      "\n",
      "\n",
      "--- Fire ID: 2025-WIWIS-FIRE123428 ---\n",
      "             date  poly_GISAcres\n",
      "28117  2025-04-10       0.527395\n",
      "\n",
      "\n",
      "--- Fire ID: 2025-WIWIS-FIRE123459 ---\n",
      "             date  poly_GISAcres\n",
      "28283  2025-04-12       0.053468\n",
      "\n",
      "\n",
      "--- Fire ID: 2025-NDFTA-000265 ---\n",
      "             date  poly_GISAcres\n",
      "28900  2025-05-02            1.0\n",
      "\n",
      "\n",
      "--- Fire ID: 2025-WIWIS-FIRE123935 ---\n",
      "             date  poly_GISAcres\n",
      "29383  2025-05-16           0.07\n",
      "\n",
      "\n"
     ]
    }
   ],
   "source": [
    "# Convert polygon datetime column to datetime type (adjust column name if needed)\n",
    "wfigs_perims['date'] = pd.to_datetime(wfigs_perims['poly_PolygonDateTime'], errors='coerce').dt.date\n",
    "\n",
    "willow_fires = wfigs_perims[wfigs_perims[\"poly_IncidentName\"] == \"Willow\"]\n",
    "\n",
    "unique_fire_ids = willow_fires[\"attr_UniqueFireIdentifier\"].unique()\n",
    "\n",
    "for fire_id in unique_fire_ids:\n",
    "    print(f\"--- Fire ID: {fire_id} ---\")\n",
    "    single_fire = willow_fires[willow_fires[\"attr_UniqueFireIdentifier\"] == fire_id].sort_values(by=\"date\")\n",
    "    print(single_fire[[\"date\", \"poly_GISAcres\"]])\n",
    "    print(\"\\n\")\n",
    "\n"
   ]
  },
  {
   "cell_type": "code",
   "execution_count": null,
   "id": "495e235d",
   "metadata": {},
   "outputs": [],
   "source": [
    "# Step 1: Parse polygon datetime and extract date\n",
    "wfigs_perims[\"poly_PolygonDateTime\"] = wfigs_perims[\"date\"] = wfigs_perims[\"poly_PolygonDateTime\"].dt.datepd.to_datetime(wfigs_perims[\"poly_PolygonDateTime\"], errors='coerce')\n"
   ]
  },
  {
   "cell_type": "code",
   "execution_count": 58,
   "id": "fc40fc49",
   "metadata": {},
   "outputs": [],
   "source": [
    "# Step 2: Sort by fire name, date, and descending acreage to keep largest per day\n",
    "wfigs_perims_sorted = wfigs_perims.sort_values(\n",
    "    by=[\"poly_IncidentName\", \"date\", \"poly_GISAcres\"],\n",
    "    ascending=[True, True, False]\n",
    ")"
   ]
  },
  {
   "cell_type": "code",
   "execution_count": 59,
   "id": "3253a629",
   "metadata": {},
   "outputs": [],
   "source": [
    "# Step 3: Keep largest perimeter per fire per day\n",
    "wfigs_perims_daily_largest = wfigs_perims_sorted.drop_duplicates(\n",
    "    subset=[\"poly_IncidentName\", \"date\"]\n",
    ").copy()"
   ]
  },
  {
   "cell_type": "code",
   "execution_count": 60,
   "id": "7cdef97f",
   "metadata": {},
   "outputs": [],
   "source": [
    "# Step 4: Calculate daily growth in acres per fire\n",
    "wfigs_perims_daily_largest[\"daily_growth_acres\"] = wfigs_perims_daily_largest.groupby(\"poly_IncidentName\")[\"poly_GISAcres\"].diff().fillna(0)\n"
   ]
  },
  {
   "cell_type": "code",
   "execution_count": 61,
   "id": "df175395",
   "metadata": {},
   "outputs": [],
   "source": [
    "# Step 5: Prepare output columns and sort\n",
    "wfigs_perims_output = wfigs_perims_daily_largest[[\"poly_IncidentName\", \"date\", \"poly_GISAcres\", \"daily_growth_acres\"]].rename(\n",
    "    columns={\"poly_GISAcres\": \"cumulative_acres\"}\n",
    ").sort_values(by=[\"poly_IncidentName\", \"date\"]).reset_index(drop=True)"
   ]
  },
  {
   "cell_type": "code",
   "execution_count": 63,
   "id": "ac0c0746",
   "metadata": {},
   "outputs": [
    {
     "name": "stdout",
     "output_type": "stream",
     "text": [
      "     poly_IncidentName        date  cumulative_acres  daily_growth_acres\n",
      "0            \\tMA07038  2022-12-14           0.39855                 0.0\n",
      "1              0573 CS  2021-07-14           0.10000                 0.0\n",
      "2   235 West Mullan Rd  2021-05-21               NaN                 0.0\n",
      "3                 7637  2021-11-13          10.00000                 0.0\n",
      "4          Anniversary  2022-08-30           0.10000                 0.0\n",
      "5            Ashe Lake  2023-02-22           1.00000                 0.0\n",
      "6             Brewster  2021-07-08          10.00000                 0.0\n",
      "7    Bridger Foothills  2020-09-05           1.00000                 0.0\n",
      "8              Bullard  2021-06-23           1.00000                 0.0\n",
      "9            Burntside  2022-10-24           1.50000                 0.0\n"
     ]
    }
   ],
   "source": [
    "# Step 6: Print example output\n",
    "print(wfigs_perims_output.head(10))"
   ]
  },
  {
   "cell_type": "code",
   "execution_count": 66,
   "id": "2026d50d",
   "metadata": {},
   "outputs": [
    {
     "name": "stdout",
     "output_type": "stream",
     "text": [
      "      poly_IncidentName        date  cumulative_acres  daily_growth_acres\n",
      "28324            Willow  2020-08-18            3.0000              0.0000\n",
      "28325            Willow  2020-09-14          134.5707            131.5707\n",
      "28326            Willow  2021-01-05               NaN              0.0000\n",
      "28327            Willow  2021-04-21           31.7700              0.0000\n",
      "28328            Willow  2021-06-29            5.0000            -26.7700\n",
      "28329            Willow  2021-08-07            0.1000             -4.9000\n",
      "28330            Willow  2022-08-02            0.3100              0.2100\n",
      "28331            Willow  2022-08-05            0.1000             -0.2100\n",
      "28332            Willow  2023-05-23            0.2000              0.1000\n",
      "28333            Willow  2023-08-11            0.1000             -0.1000\n"
     ]
    }
   ],
   "source": [
    "willow_fire = wfigs_perims_output[wfigs_perims_output[\"poly_IncidentName\"] == \"Willow\"]\n",
    "willow_fire_sorted = willow_fire.sort_values(by=\"date\", ascending=True)\n",
    "print(willow_fire_sorted.head(10))\n"
   ]
  },
  {
   "cell_type": "code",
   "execution_count": 53,
   "id": "93d1b7a2",
   "metadata": {},
   "outputs": [
    {
     "name": "stdout",
     "output_type": "stream",
     "text": [
      "Number of fires with multiple polygon dates: 2110\n",
      "      poly_IncidentName  unique_dates\n",
      "64               000003             2\n",
      "65               000004             2\n",
      "66               000005             3\n",
      "70               000014             2\n",
      "89               000067             2\n",
      "...                 ...           ...\n",
      "23776      Yellowjacket             2\n",
      "23779              Yeti             2\n",
      "23796             Young             2\n",
      "23808             Yucca             2\n",
      "23816              ZINK             2\n",
      "\n",
      "[2110 rows x 2 columns]\n",
      "          poly_IncidentName  unique_dates\n",
      "23455                Willow            22\n",
      "5856             Cottonwood            21\n",
      "18400            Rock Creek            17\n",
      "18208                 Ridge            16\n",
      "16708                  Pine            16\n",
      "...                     ...           ...\n",
      "14415                Moffat             0\n",
      "8889                 Gilman             0\n",
      "19957  Shupac Lake Rd. Fire             0\n",
      "14418               Mojave              0\n",
      "23989       woods Rd. fire              0\n",
      "\n",
      "[23990 rows x 2 columns]\n"
     ]
    }
   ],
   "source": [
    "import pandas as pd\n",
    "\n",
    "# Parse the polygon datetime as datetime type\n",
    "wfigs_perims['poly_PolygonDateTime'] = pd.to_datetime(wfigs_perims['poly_PolygonDateTime'], errors='coerce')\n",
    "\n",
    "# Count unique dates per fire\n",
    "fire_date_counts = wfigs_perims.groupby('poly_IncidentName')['poly_PolygonDateTime'].nunique().reset_index(name='unique_dates')\n",
    "\n",
    "# Find fires with more than one date (multiple snapshots)\n",
    "multiple_dates = fire_date_counts[fire_date_counts['unique_dates'] > 1]\n",
    "\n",
    "print(f\"Number of fires with multiple polygon dates: {len(multiple_dates)}\")\n",
    "print(multiple_dates)\n",
    "\n",
    "# Sort by 'unique_dates' descending\n",
    "fire_date_counts_sorted = fire_date_counts.sort_values(by='unique_dates', ascending=False)\n",
    "\n",
    "print(fire_date_counts_sorted)  # Show top 10 fires with most polygon dates\n"
   ]
  }
 ],
 "metadata": {
  "kernelspec": {
   "display_name": "base",
   "language": "python",
   "name": "python3"
  },
  "language_info": {
   "codemirror_mode": {
    "name": "ipython",
    "version": 3
   },
   "file_extension": ".py",
   "mimetype": "text/x-python",
   "name": "python",
   "nbconvert_exporter": "python",
   "pygments_lexer": "ipython3",
   "version": "3.12.7"
  }
 },
 "nbformat": 4,
 "nbformat_minor": 5
}
