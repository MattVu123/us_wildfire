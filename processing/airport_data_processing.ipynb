{
 "cells": [
  {
   "cell_type": "code",
   "execution_count": 1,
   "id": "8fa5ad3a",
   "metadata": {},
   "outputs": [],
   "source": [
    "# load in libraries\n",
    "import pandas as pd\n",
    "import os"
   ]
  },
  {
   "cell_type": "code",
   "execution_count": 2,
   "id": "db3b841f",
   "metadata": {},
   "outputs": [],
   "source": [
    "# read in airports data\n",
    "airports_dir = os.path.join(os.getcwd(), '../data/raw_data/our_airports_raw/airports.csv')\n",
    "airports = pd.read_csv(\n",
    "    airports_dir,\n",
    "    usecols=[  # these columns exist in the dataset\n",
    "        'id',\n",
    "        'ident',\n",
    "        'type',\n",
    "        'name',\n",
    "        'latitude_deg',\n",
    "        'longitude_deg',\n",
    "        'elevation_ft',\n",
    "        'iso_country',\n",
    "        'iso_region',\n",
    "        'municipality',\n",
    "        'iata_code'\n",
    "    ],\n",
    "    encoding='utf-8'\n",
    ")\n",
    "airports = airports.rename(columns={'id': 'airport_id'})"
   ]
  },
  {
   "cell_type": "code",
   "execution_count": 3,
   "id": "4c3cd848",
   "metadata": {},
   "outputs": [
    {
     "name": "stdout",
     "output_type": "stream",
     "text": [
      "   airport_id ident           type                  name  latitude_deg  \\\n",
      "0        6523   00A       heliport     Total RF Heliport     40.070985   \n",
      "1      323361  00AA  small_airport  Aero B Ranch Airport     38.704022   \n",
      "2        6524  00AK  small_airport          Lowell Field     59.947733   \n",
      "3        6525  00AL  small_airport          Epps Airpark     34.864799   \n",
      "4      506791  00AN  small_airport  Katmai Lodge Airport     59.093287   \n",
      "\n",
      "   longitude_deg  elevation_ft iso_country iso_region  municipality iata_code  \n",
      "0     -74.933689          11.0          US      US-PA      Bensalem       NaN  \n",
      "1    -101.473911        3435.0          US      US-KS         Leoti       NaN  \n",
      "2    -151.692524         450.0          US      US-AK  Anchor Point       NaN  \n",
      "3     -86.770302         820.0          US      US-AL       Harvest       NaN  \n",
      "4    -156.456699          80.0          US      US-AK   King Salmon       NaN  \n"
     ]
    }
   ],
   "source": [
    "# view data\n",
    "print(airports.head())"
   ]
  },
  {
   "cell_type": "code",
   "execution_count": 4,
   "id": "62ef7ef8",
   "metadata": {},
   "outputs": [],
   "source": [
    "# read in runways data\n",
    "runways_dir = os.path.join(os.getcwd(), '../data/raw_data/our_airports_raw/runways.csv')\n",
    "runways = pd.read_csv(\n",
    "    runways_dir,\n",
    "    usecols=[  # these columns exist in the dataset\n",
    "        'id', \n",
    "        'airport_ident', \n",
    "        'length_ft', \n",
    "        'width_ft', \n",
    "        'surface'\n",
    "    ],\n",
    "    encoding='utf-8'\n",
    ")\n",
    "runways = runways.rename(columns={'id': 'runways_id'})"
   ]
  },
  {
   "cell_type": "code",
   "execution_count": 5,
   "id": "3d8e2f23",
   "metadata": {},
   "outputs": [
    {
     "name": "stdout",
     "output_type": "stream",
     "text": [
      "   runways_id airport_ident  length_ft  width_ft surface\n",
      "0      269408           00A       80.0      80.0  ASPH-G\n",
      "1      255155          00AK     2500.0      70.0    GRVL\n",
      "2      254165          00AL     2300.0     200.0    TURF\n",
      "3      506792          00AN     4517.0      60.0     GVL\n",
      "4      322128          00AS     1450.0      60.0    Turf\n"
     ]
    }
   ],
   "source": [
    "# view data\n",
    "print(runways.head())"
   ]
  },
  {
   "cell_type": "code",
   "execution_count": 6,
   "id": "97e6a2fd",
   "metadata": {},
   "outputs": [],
   "source": [
    "# Read in countries data\n",
    "countries_dir = os.path.join(os.getcwd(), '../data/raw_data/our_airports_raw/countries.csv')\n",
    "countries = pd.read_csv(\n",
    "    countries_dir,\n",
    "    usecols=[  # these columns exist in the dataset\n",
    "        'id', \n",
    "        'code', \n",
    "        'name'\n",
    "    ],\n",
    "    encoding='utf-8'\n",
    ")\n",
    "countries = countries.rename(columns={'id': 'countries_id'})"
   ]
  },
  {
   "cell_type": "code",
   "execution_count": 7,
   "id": "206b2096",
   "metadata": {},
   "outputs": [
    {
     "name": "stdout",
     "output_type": "stream",
     "text": [
      "   countries_id code                  name\n",
      "0        302672   AD               Andorra\n",
      "1        302618   AE  United Arab Emirates\n",
      "2        302619   AF           Afghanistan\n",
      "3        302722   AG   Antigua and Barbuda\n",
      "4        302723   AI              Anguilla\n"
     ]
    }
   ],
   "source": [
    "# view\n",
    "print(countries.head())"
   ]
  },
  {
   "cell_type": "code",
   "execution_count": 8,
   "id": "8b98d65e",
   "metadata": {},
   "outputs": [],
   "source": [
    "# Construct the file path\n",
    "regions_dir = os.path.join(os.getcwd(), '../data/raw_data/our_airports_raw/regions.csv')\n",
    "\n",
    "# Read the CSV with selected columns\n",
    "regions = pd.read_csv(\n",
    "    regions_dir,\n",
    "    usecols=[\n",
    "        'id',\n",
    "        'code',\n",
    "        'name',\n",
    "        'iso_country'\n",
    "    ],\n",
    "    encoding='utf-8'\n",
    ")\n",
    "regions = regions.rename(columns={'id': 'regions_id'})"
   ]
  },
  {
   "cell_type": "code",
   "execution_count": 9,
   "id": "1b4b42d7",
   "metadata": {},
   "outputs": [
    {
     "name": "stdout",
     "output_type": "stream",
     "text": [
      "   regions_id   code                        name iso_country\n",
      "0      302811  AD-02              Canillo Parish          AD\n",
      "1      302812  AD-03               Encamp Parish          AD\n",
      "2      302813  AD-04           La Massana Parish          AD\n",
      "3      302814  AD-05               Ordino Parish          AD\n",
      "4      302815  AD-06  Sant Julià de Lòria Parish          AD\n"
     ]
    }
   ],
   "source": [
    "# Display first few rows to verify\n",
    "print(regions.head())"
   ]
  },
  {
   "cell_type": "code",
   "execution_count": 10,
   "id": "33522fa1",
   "metadata": {},
   "outputs": [],
   "source": [
    "# Step 1: Join airports with runways on ident = airport_ident\n",
    "airports_joined = pd.merge(\n",
    "    airports,\n",
    "    runways,\n",
    "    left_on='ident',\n",
    "    right_on='airport_ident',\n",
    "    how='left'\n",
    ")"
   ]
  },
  {
   "cell_type": "code",
   "execution_count": 11,
   "id": "54727dba",
   "metadata": {},
   "outputs": [],
   "source": [
    "# Step 2: Join with countries on iso_country = code with suffixes\n",
    "airports_joined = pd.merge(\n",
    "    airports_joined,\n",
    "    countries[['code', 'name']],\n",
    "    left_on='iso_country',\n",
    "    right_on='code',\n",
    "    how='left',\n",
    "    suffixes=('', '_country')\n",
    ")\n",
    "\n",
    "# Rename 'name_country' to 'country_name'\n",
    "airports_joined = airports_joined.rename(columns={'name_country': 'country_name'})\n"
   ]
  },
  {
   "cell_type": "code",
   "execution_count": 12,
   "id": "8423e824",
   "metadata": {},
   "outputs": [],
   "source": [
    "# Step 3: Join with regions on iso_region = code with suffixes\n",
    "airports_joined = pd.merge(\n",
    "    airports_joined,\n",
    "    regions[['code', 'name']],\n",
    "    left_on='iso_region',\n",
    "    right_on='code',\n",
    "    how='left',\n",
    "    suffixes=('', '_region')\n",
    ")\n",
    "\n",
    "# Rename 'name_region' to 'region_name'\n",
    "airports_joined = airports_joined.rename(columns={'name_region': 'region_name'})"
   ]
  },
  {
   "cell_type": "code",
   "execution_count": 13,
   "id": "b5b0fc34",
   "metadata": {},
   "outputs": [],
   "source": [
    "# Step 4: Select required columns\n",
    "airports_joined = airports_joined[[\n",
    "    'ident',\n",
    "    'iata_code',\n",
    "    'type',\n",
    "    'name',          # airport name (no suffix)\n",
    "    'latitude_deg',\n",
    "    'longitude_deg',\n",
    "    'elevation_ft',\n",
    "    'length_ft',\n",
    "    'width_ft',\n",
    "    'surface',\n",
    "    'country_name',\n",
    "    'region_name'\n",
    "]]"
   ]
  },
  {
   "cell_type": "code",
   "execution_count": 15,
   "id": "b08056ec",
   "metadata": {},
   "outputs": [
    {
     "name": "stdout",
     "output_type": "stream",
     "text": [
      "  ident iata_code           type                  name  latitude_deg  \\\n",
      "0   00A       NaN       heliport     Total RF Heliport     40.070985   \n",
      "1  00AA       NaN  small_airport  Aero B Ranch Airport     38.704022   \n",
      "2  00AK       NaN  small_airport          Lowell Field     59.947733   \n",
      "3  00AL       NaN  small_airport          Epps Airpark     34.864799   \n",
      "4  00AN       NaN  small_airport  Katmai Lodge Airport     59.093287   \n",
      "\n",
      "   longitude_deg  elevation_ft  length_ft  width_ft surface   country_name  \\\n",
      "0     -74.933689          11.0       80.0      80.0  ASPH-G  United States   \n",
      "1    -101.473911        3435.0        NaN       NaN     NaN  United States   \n",
      "2    -151.692524         450.0     2500.0      70.0    GRVL  United States   \n",
      "3     -86.770302         820.0     2300.0     200.0    TURF  United States   \n",
      "4    -156.456699          80.0     4517.0      60.0     GVL  United States   \n",
      "\n",
      "    region_name  \n",
      "0  Pennsylvania  \n",
      "1        Kansas  \n",
      "2        Alaska  \n",
      "3       Alabama  \n",
      "4        Alaska  \n"
     ]
    }
   ],
   "source": [
    "# view\n",
    "print(airports_joined.head())"
   ]
  }
 ],
 "metadata": {
  "kernelspec": {
   "display_name": "base",
   "language": "python",
   "name": "python3"
  },
  "language_info": {
   "codemirror_mode": {
    "name": "ipython",
    "version": 3
   },
   "file_extension": ".py",
   "mimetype": "text/x-python",
   "name": "python",
   "nbconvert_exporter": "python",
   "pygments_lexer": "ipython3",
   "version": "3.12.7"
  }
 },
 "nbformat": 4,
 "nbformat_minor": 5
}
