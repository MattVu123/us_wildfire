{
 "cells": [
  {
   "cell_type": "code",
   "execution_count": 6,
   "id": "6b148a11-fd4c-46d5-bc87-c7c2d818ac88",
   "metadata": {},
   "outputs": [
    {
     "name": "stderr",
     "output_type": "stream",
     "text": [
      "C:\\Users\\longl\\AppData\\Local\\Temp\\ipykernel_29064\\2227574779.py:16: UserWarning: Geometry is in a geographic CRS. Results from 'centroid' are likely incorrect. Use 'GeoSeries.to_crs()' to re-project geometries to a projected CRS before this operation.\n",
      "\n",
      "  wildfire_gdf['centroid'] = wildfire_gdf.geometry.centroid\n"
     ]
    },
    {
     "name": "stdout",
     "output_type": "stream",
     "text": [
      "      Fire ID               CLOSEST_AIRPORT_NAME AIRPORT IDENT REGION NAME  \\\n",
      "0  2020_76998  The Florida Keys Marathon Airport          KMTH     Florida   \n",
      "1  2020_76999  The Florida Keys Marathon Airport          KMTH     Florida   \n",
      "2  2020_77025  The Florida Keys Marathon Airport          KMTH     Florida   \n",
      "3  2020_77014  The Florida Keys Marathon Airport          KMTH     Florida   \n",
      "4  2020_77029  The Florida Keys Marathon Airport          KMTH     Florida   \n",
      "\n",
      "                        AIRPORT TYPE      DISTANCE  \n",
      "0  The Florida Keys Marathon Airport  5.583769e+06  \n",
      "1  The Florida Keys Marathon Airport  5.584827e+06  \n",
      "2  The Florida Keys Marathon Airport  5.406184e+06  \n",
      "3  The Florida Keys Marathon Airport  5.692759e+06  \n",
      "4  The Florida Keys Marathon Airport  5.524422e+06  \n"
     ]
    }
   ],
   "source": [
    "import pandas as pd\n",
    "import geopandas as gpd\n",
    "from shapely import wkt\n",
    "from shapely.geometry import Point\n",
    "import numpy as np\n",
    "\n",
    "wildfire_df = pd.read_csv(\"C:/Users/longl/BurnData.csv\")\n",
    "wildfire_df['geometry'] = wildfire_df['geometry'].apply(wkt.loads)\n",
    "wildfire_gdf = gpd.GeoDataFrame(wildfire_df, geometry='geometry', crs=\"EPSG:4326\")\n",
    "\n",
    "# Load airport locations\n",
    "airport_df = pd.read_excel(\"C:/Users/longl/airports_processed.xlsx\")\n",
    "airport_df = airport_df.dropna(subset=['latitude_deg', 'longitude_deg'])  \n",
    "\n",
    "# Get wildfire centroids in lat/long\n",
    "wildfire_gdf['centroid'] = wildfire_gdf.geometry.centroid\n",
    "wildfire_gdf['centroid_lat'] = wildfire_gdf['centroid'].y\n",
    "wildfire_gdf['centroid_lon'] = wildfire_gdf['centroid'].x\n",
    "\n",
    "#  Haversine function\n",
    "def haversine(lat1, lon1, lat2, lon2):\n",
    "    R = 6371  # Earth radius in km\n",
    "    phi1 = np.radians(lat1)\n",
    "    phi2 = np.radians(lat2)\n",
    "    dphi = np.radians(lat2 - lat1)\n",
    "    dlambda = np.radians(lon2 - lon1)\n",
    "\n",
    "    a = np.sin(dphi / 2) ** 2 + np.cos(phi1) * np.cos(phi2) * np.sin(dlambda / 2) ** 2\n",
    "    return 2 * R * np.arcsin(np.sqrt(a)) * 1000  # return in meters\n",
    "\n",
    "#  Compute distances to all airports and pick the closest\n",
    "results = []\n",
    "\n",
    "for _, fire in wildfire_gdf.iterrows():\n",
    "    lat1, lon1 = fire['centroid_lat'], fire['centroid_lon']\n",
    "    distances = haversine(lat1, lon1, airport_df['latitude_deg'], airport_df['longitude_deg'])\n",
    "    min_idx = np.argmin(distances)\n",
    "    nearest_airport=airport_df.iloc[min_idx]\n",
    "    results.append({\n",
    "        'Fire ID': fire['unique_id'],\n",
    "        'CLOSEST_AIRPORT_NAME': airport_df.iloc[min_idx]['name'],\n",
    "        'AIRPORT IDENT': nearest_airport['ident'],\n",
    "        'REGION NAME': nearest_airport['region_name'],\n",
    "        'AIRPORT TYPE':nearest_airport['name'],\n",
    "        'DISTANCE': distances[min_idx]\n",
    "    })\n",
    "# the distance will show in meter\n",
    "#  Create DataFrame with final results\n",
    "result_df = pd.DataFrame(results)\n",
    "\n",
    "print(result_df.head())"
   ]
  },
  {
   "cell_type": "code",
   "execution_count": null,
   "id": "01fa0dbc-f9df-42c6-a300-236a560a7449",
   "metadata": {},
   "outputs": [],
   "source": []
  },
  {
   "cell_type": "code",
   "execution_count": null,
   "id": "dbaa133d-3947-4711-a483-5805ca13f9b7",
   "metadata": {},
   "outputs": [],
   "source": []
  }
 ],
 "metadata": {
  "kernelspec": {
   "display_name": "Python 3 (ipykernel)",
   "language": "python",
   "name": "python3"
  },
  "language_info": {
   "codemirror_mode": {
    "name": "ipython",
    "version": 3
   },
   "file_extension": ".py",
   "mimetype": "text/x-python",
   "name": "python",
   "nbconvert_exporter": "python",
   "pygments_lexer": "ipython3",
   "version": "3.12.2"
  }
 },
 "nbformat": 4,
 "nbformat_minor": 5
}
