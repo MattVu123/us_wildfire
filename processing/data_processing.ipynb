{
 "cells": [
  {
   "cell_type": "markdown",
   "id": "f0afc6d4",
   "metadata": {},
   "source": [
    "# Data Processing Code"
   ]
  },
  {
   "cell_type": "markdown",
   "id": "3dd1e1c0",
   "metadata": {},
   "source": [
    "## Install libraries"
   ]
  },
  {
   "cell_type": "code",
   "execution_count": null,
   "id": "bb6f295b",
   "metadata": {},
   "outputs": [
    {
     "name": "stdout",
     "output_type": "stream",
     "text": [
      "Requirement already satisfied: netCDF4 in c:\\users\\paul_\\anaconda3\\lib\\site-packages (1.7.2)\n",
      "Requirement already satisfied: cftime in c:\\users\\paul_\\anaconda3\\lib\\site-packages (from netCDF4) (1.6.4.post1)\n",
      "Requirement already satisfied: certifi in c:\\users\\paul_\\anaconda3\\lib\\site-packages (from netCDF4) (2025.4.26)\n",
      "Requirement already satisfied: numpy in c:\\users\\paul_\\anaconda3\\lib\\site-packages (from netCDF4) (1.26.4)\n"
     ]
    }
   ],
   "source": [
    "# install libraries\n",
    "# !pip install xarray netcdf4 pandas"
   ]
  },
  {
   "cell_type": "markdown",
   "id": "1fbfe9f9",
   "metadata": {},
   "source": [
    "## Import libraries"
   ]
  },
  {
   "cell_type": "code",
   "execution_count": 1,
   "id": "6f7648f4",
   "metadata": {},
   "outputs": [],
   "source": [
    "# import libraries\n",
    "import xarray as xr"
   ]
  },
  {
   "cell_type": "markdown",
   "id": "0ecf8d7e",
   "metadata": {},
   "source": [
    "## Playground"
   ]
  },
  {
   "cell_type": "markdown",
   "id": "0f98499b",
   "metadata": {},
   "source": [
    "The playground provides a space for users to play around with code and experiment with the data"
   ]
  },
  {
   "cell_type": "code",
   "execution_count": 2,
   "id": "97e51852",
   "metadata": {},
   "outputs": [],
   "source": [
    "# example data importation\n",
    "play = xr.open_dataset(\"..\\\\data\\\\raw_data\\\\era5_downloads\\\\era5_us_2020_01.nc\", engine = \"netcdf4\")"
   ]
  },
  {
   "cell_type": "code",
   "execution_count": 5,
   "id": "6f4eb310",
   "metadata": {},
   "outputs": [],
   "source": [
    "# convert to dataframe\n",
    "play_df = play.to_dataframe()"
   ]
  },
  {
   "cell_type": "code",
   "execution_count": 7,
   "id": "5f10b9fe",
   "metadata": {},
   "outputs": [
    {
     "name": "stdout",
     "output_type": "stream",
     "text": [
      "                               number expver       u10       v10         d2m  \\\n",
      "valid_time latitude longitude                                                  \n",
      "2020-01-01 71.4     -179.10         0   0001  5.580892 -3.002762  242.753540   \n",
      "                    -178.85         0   0001  5.858235 -3.622391  242.755493   \n",
      "                    -178.60         0   0001  6.361653 -4.471512  243.222290   \n",
      "                    -178.35         0   0001  6.687825 -5.254227  243.417603   \n",
      "                    -178.10         0   0001  6.954915 -6.132156  243.907837   \n",
      "\n",
      "                                      t2m         msl           sp  \n",
      "valid_time latitude longitude                                       \n",
      "2020-01-01 71.4     -179.10    245.540344  102190.000  100799.9375  \n",
      "                    -178.85    245.581360  102167.750  100820.9375  \n",
      "                    -178.60    246.124329  102142.375  101142.9375  \n",
      "                    -178.35    246.370422  102119.750  101285.9375  \n",
      "                    -178.10    246.868469  102099.375  101589.9375  \n"
     ]
    }
   ],
   "source": [
    "# Show the first few rows\n",
    "print(play_df.head())"
   ]
  }
 ],
 "metadata": {
  "kernelspec": {
   "display_name": "base",
   "language": "python",
   "name": "python3"
  },
  "language_info": {
   "codemirror_mode": {
    "name": "ipython",
    "version": 3
   },
   "file_extension": ".py",
   "mimetype": "text/x-python",
   "name": "python",
   "nbconvert_exporter": "python",
   "pygments_lexer": "ipython3",
   "version": "3.12.7"
  }
 },
 "nbformat": 4,
 "nbformat_minor": 5
}
