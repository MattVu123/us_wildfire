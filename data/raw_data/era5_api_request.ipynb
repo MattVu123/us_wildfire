{
 "cells": [
  {
   "cell_type": "markdown",
   "id": "df902019",
   "metadata": {},
   "source": [
    "# API Request"
   ]
  },
  {
   "cell_type": "code",
   "execution_count": 1,
   "id": "e73d3c5a",
   "metadata": {},
   "outputs": [],
   "source": [
    "import cdsapi\n",
    "from pathlib import Path\n",
    "import zipfile"
   ]
  },
  {
   "cell_type": "code",
   "execution_count": null,
   "id": "818ead3f",
   "metadata": {},
   "outputs": [
    {
     "name": "stderr",
     "output_type": "stream",
     "text": [
      "2025-06-03 17:07:02,634 INFO [2024-09-26T00:00:00] Watch our [Forum](https://forum.ecmwf.int/) for Announcements, news and other discussed topics.\n"
     ]
    },
    {
     "name": "stdout",
     "output_type": "stream",
     "text": [
      "Downloading ERA5 data for 2020-01...\n"
     ]
    },
    {
     "name": "stderr",
     "output_type": "stream",
     "text": [
      "2025-06-03 17:07:03,218 INFO Request ID is 94b8abe7-299a-4679-ae67-d11908506ced\n",
      "2025-06-03 17:07:03,371 INFO status has been updated to accepted\n",
      "2025-06-03 17:07:17,412 INFO status has been updated to running\n"
     ]
    },
    {
     "ename": "KeyboardInterrupt",
     "evalue": "",
     "output_type": "error",
     "traceback": [
      "\u001b[1;31m---------------------------------------------------------------------------\u001b[0m",
      "\u001b[1;31mKeyboardInterrupt\u001b[0m                         Traceback (most recent call last)",
      "Cell \u001b[1;32mIn[2], line 47\u001b[0m\n\u001b[0;32m     44\u001b[0m \u001b[38;5;28mprint\u001b[39m(\u001b[38;5;124mf\u001b[39m\u001b[38;5;124m\"\u001b[39m\u001b[38;5;124mDownloading ERA5 data for \u001b[39m\u001b[38;5;132;01m{\u001b[39;00myear_str\u001b[38;5;132;01m}\u001b[39;00m\u001b[38;5;124m-\u001b[39m\u001b[38;5;132;01m{\u001b[39;00mmonth_str\u001b[38;5;132;01m}\u001b[39;00m\u001b[38;5;124m...\u001b[39m\u001b[38;5;124m\"\u001b[39m)\n\u001b[0;32m     46\u001b[0m \u001b[38;5;28;01mtry\u001b[39;00m:\n\u001b[1;32m---> 47\u001b[0m     client\u001b[38;5;241m.\u001b[39mretrieve(\u001b[38;5;124m\"\u001b[39m\u001b[38;5;124mreanalysis-era5-single-levels\u001b[39m\u001b[38;5;124m\"\u001b[39m, request, \u001b[38;5;28mstr\u001b[39m(zip_filename))\n\u001b[0;32m     48\u001b[0m     \u001b[38;5;28mprint\u001b[39m(\u001b[38;5;124mf\u001b[39m\u001b[38;5;124m\"\u001b[39m\u001b[38;5;124m✔ Saved to \u001b[39m\u001b[38;5;132;01m{\u001b[39;00mzip_filename\u001b[38;5;132;01m}\u001b[39;00m\u001b[38;5;124m\"\u001b[39m)\n\u001b[0;32m     50\u001b[0m     \u001b[38;5;66;03m# Extract only the data_stream-oper_stepType-instant.nc file\u001b[39;00m\n",
      "File \u001b[1;32mc:\\Users\\Paul_\\anaconda3\\Lib\\site-packages\\ecmwf\\datastores\\legacy_client.py:167\u001b[0m, in \u001b[0;36mLegacyClient.retrieve\u001b[1;34m(self, name, request, target)\u001b[0m\n\u001b[0;32m    165\u001b[0m submitted: datastores\u001b[38;5;241m.\u001b[39mRemote \u001b[38;5;241m|\u001b[39m datastores\u001b[38;5;241m.\u001b[39mResults\n\u001b[0;32m    166\u001b[0m \u001b[38;5;28;01mif\u001b[39;00m \u001b[38;5;28mself\u001b[39m\u001b[38;5;241m.\u001b[39mwait_until_complete:\n\u001b[1;32m--> 167\u001b[0m     submitted \u001b[38;5;241m=\u001b[39m \u001b[38;5;28mself\u001b[39m\u001b[38;5;241m.\u001b[39mclient\u001b[38;5;241m.\u001b[39msubmit_and_wait_on_results(\n\u001b[0;32m    168\u001b[0m         collection_id\u001b[38;5;241m=\u001b[39mname,\n\u001b[0;32m    169\u001b[0m         request\u001b[38;5;241m=\u001b[39mrequest,\n\u001b[0;32m    170\u001b[0m     )\n\u001b[0;32m    171\u001b[0m \u001b[38;5;28;01melse\u001b[39;00m:\n\u001b[0;32m    172\u001b[0m     submitted \u001b[38;5;241m=\u001b[39m \u001b[38;5;28mself\u001b[39m\u001b[38;5;241m.\u001b[39mclient\u001b[38;5;241m.\u001b[39msubmit(\n\u001b[0;32m    173\u001b[0m         collection_id\u001b[38;5;241m=\u001b[39mname,\n\u001b[0;32m    174\u001b[0m         request\u001b[38;5;241m=\u001b[39mrequest,\n\u001b[0;32m    175\u001b[0m     )\n",
      "File \u001b[1;32mc:\\Users\\Paul_\\anaconda3\\Lib\\site-packages\\ecmwf\\datastores\\client.py:397\u001b[0m, in \u001b[0;36mClient.submit_and_wait_on_results\u001b[1;34m(self, collection_id, request)\u001b[0m\n\u001b[0;32m    381\u001b[0m \u001b[38;5;28;01mdef\u001b[39;00m \u001b[38;5;21msubmit_and_wait_on_results\u001b[39m(\n\u001b[0;32m    382\u001b[0m     \u001b[38;5;28mself\u001b[39m, collection_id: \u001b[38;5;28mstr\u001b[39m, request: \u001b[38;5;28mdict\u001b[39m[\u001b[38;5;28mstr\u001b[39m, Any]\n\u001b[0;32m    383\u001b[0m ) \u001b[38;5;241m-\u001b[39m\u001b[38;5;241m>\u001b[39m datastores\u001b[38;5;241m.\u001b[39mResults:\n\u001b[0;32m    384\u001b[0m \u001b[38;5;250m    \u001b[39m\u001b[38;5;124;03m\"\"\"Submit a request and wait for the results to be ready.\u001b[39;00m\n\u001b[0;32m    385\u001b[0m \n\u001b[0;32m    386\u001b[0m \u001b[38;5;124;03m    Parameters\u001b[39;00m\n\u001b[1;32m   (...)\u001b[0m\n\u001b[0;32m    395\u001b[0m \u001b[38;5;124;03m    datastores.Results\u001b[39;00m\n\u001b[0;32m    396\u001b[0m \u001b[38;5;124;03m    \"\"\"\u001b[39;00m\n\u001b[1;32m--> 397\u001b[0m     \u001b[38;5;28;01mreturn\u001b[39;00m \u001b[38;5;28mself\u001b[39m\u001b[38;5;241m.\u001b[39m_retrieve_api\u001b[38;5;241m.\u001b[39msubmit(collection_id, request)\u001b[38;5;241m.\u001b[39mget_results()\n",
      "File \u001b[1;32mc:\\Users\\Paul_\\anaconda3\\Lib\\site-packages\\ecmwf\\datastores\\processing.py:544\u001b[0m, in \u001b[0;36mRemote.get_results\u001b[1;34m(self)\u001b[0m\n\u001b[0;32m    537\u001b[0m \u001b[38;5;28;01mdef\u001b[39;00m \u001b[38;5;21mget_results\u001b[39m(\u001b[38;5;28mself\u001b[39m) \u001b[38;5;241m-\u001b[39m\u001b[38;5;241m>\u001b[39m Results:\n\u001b[0;32m    538\u001b[0m \u001b[38;5;250m    \u001b[39m\u001b[38;5;124;03m\"\"\"Retrieve results.\u001b[39;00m\n\u001b[0;32m    539\u001b[0m \n\u001b[0;32m    540\u001b[0m \u001b[38;5;124;03m    Returns\u001b[39;00m\n\u001b[0;32m    541\u001b[0m \u001b[38;5;124;03m    -------\u001b[39;00m\n\u001b[0;32m    542\u001b[0m \u001b[38;5;124;03m    datastores.Results\u001b[39;00m\n\u001b[0;32m    543\u001b[0m \u001b[38;5;124;03m    \"\"\"\u001b[39;00m\n\u001b[1;32m--> 544\u001b[0m     \u001b[38;5;28;01mreturn\u001b[39;00m \u001b[38;5;28mself\u001b[39m\u001b[38;5;241m.\u001b[39m_make_results(wait\u001b[38;5;241m=\u001b[39m\u001b[38;5;28;01mTrue\u001b[39;00m)\n",
      "File \u001b[1;32mc:\\Users\\Paul_\\anaconda3\\Lib\\site-packages\\ecmwf\\datastores\\processing.py:519\u001b[0m, in \u001b[0;36mRemote._make_results\u001b[1;34m(self, wait)\u001b[0m\n\u001b[0;32m    517\u001b[0m \u001b[38;5;28;01mdef\u001b[39;00m \u001b[38;5;21m_make_results\u001b[39m(\u001b[38;5;28mself\u001b[39m, wait: \u001b[38;5;28mbool\u001b[39m) \u001b[38;5;241m-\u001b[39m\u001b[38;5;241m>\u001b[39m Results:\n\u001b[0;32m    518\u001b[0m     \u001b[38;5;28;01mif\u001b[39;00m wait:\n\u001b[1;32m--> 519\u001b[0m         \u001b[38;5;28mself\u001b[39m\u001b[38;5;241m.\u001b[39m_wait_on_results()\n\u001b[0;32m    520\u001b[0m     response \u001b[38;5;241m=\u001b[39m \u001b[38;5;28mself\u001b[39m\u001b[38;5;241m.\u001b[39m_get_api_response(\u001b[38;5;124m\"\u001b[39m\u001b[38;5;124mget\u001b[39m\u001b[38;5;124m\"\u001b[39m)\n\u001b[0;32m    521\u001b[0m     \u001b[38;5;28;01mtry\u001b[39;00m:\n",
      "File \u001b[1;32mc:\\Users\\Paul_\\anaconda3\\Lib\\site-packages\\ecmwf\\datastores\\processing.py:499\u001b[0m, in \u001b[0;36mRemote._wait_on_results\u001b[1;34m(self)\u001b[0m\n\u001b[0;32m    497\u001b[0m \u001b[38;5;28;01mwhile\u001b[39;00m \u001b[38;5;129;01mnot\u001b[39;00m \u001b[38;5;28mself\u001b[39m\u001b[38;5;241m.\u001b[39mresults_ready:\n\u001b[0;32m    498\u001b[0m     \u001b[38;5;28mself\u001b[39m\u001b[38;5;241m.\u001b[39mdebug(\u001b[38;5;124mf\u001b[39m\u001b[38;5;124m\"\u001b[39m\u001b[38;5;124mresults not ready, waiting for \u001b[39m\u001b[38;5;132;01m{\u001b[39;00msleep\u001b[38;5;132;01m}\u001b[39;00m\u001b[38;5;124m seconds\u001b[39m\u001b[38;5;124m\"\u001b[39m)\n\u001b[1;32m--> 499\u001b[0m     time\u001b[38;5;241m.\u001b[39msleep(sleep)\n\u001b[0;32m    500\u001b[0m     sleep \u001b[38;5;241m=\u001b[39m \u001b[38;5;28mmin\u001b[39m(sleep \u001b[38;5;241m*\u001b[39m \u001b[38;5;241m1.5\u001b[39m, \u001b[38;5;28mself\u001b[39m\u001b[38;5;241m.\u001b[39msleep_max)\n",
      "\u001b[1;31mKeyboardInterrupt\u001b[0m: "
     ]
    }
   ],
   "source": [
    "# ===============================\n",
    "# CONFIGURATION – EASY TO MODIFY\n",
    "# ===============================\n",
    "years = range(2020, 2026)  # From 2020 to 2025 inclusive\n",
    "months = range(1, 13)      # January to December\n",
    "area = [71.5, -179.1, 18.9, -66.9]  # US bounding box: [N, W, S, E]\n",
    "output_dir = Path.cwd() / \"era5_downloads\"\n",
    "output_dir.mkdir(exist_ok=True)\n",
    "\n",
    "variables = [\n",
    "    \"10m_u_component_of_wind\",\n",
    "    \"10m_v_component_of_wind\",\n",
    "    \"2m_dewpoint_temperature\",\n",
    "    \"2m_temperature\",\n",
    "    \"total_precipitation\",\n",
    "    \"mean_sea_level_pressure\",\n",
    "    \"surface_pressure\"\n",
    "]\n",
    "\n",
    "# ===============================\n",
    "# Download + Extract loop\n",
    "# ===============================\n",
    "client = cdsapi.Client()\n",
    "\n",
    "for year in years:\n",
    "    for month in months:\n",
    "        year_str = str(year)\n",
    "        month_str = str(month).zfill(2)\n",
    "        days = [str(day).zfill(2) for day in range(1, 32)]  # CDS handles invalid days\n",
    "\n",
    "        request = {\n",
    "            \"product_type\": \"reanalysis\",\n",
    "            \"variable\": variables,\n",
    "            \"year\": year_str,\n",
    "            \"month\": month_str,\n",
    "            \"day\": days,\n",
    "            \"time\": [f\"{h:02d}:00\" for h in range(24)],\n",
    "            \"data_format\": \"netcdf\",\n",
    "            \"download_format\": \"zip\",\n",
    "            \"area\": area,\n",
    "        }\n",
    "\n",
    "        zip_filename = output_dir / f\"era5_us_{year_str}_{month_str}.zip\"\n",
    "        print(f\"Downloading ERA5 data for {year_str}-{month_str}...\")\n",
    "\n",
    "        try:\n",
    "            client.retrieve(\"reanalysis-era5-single-levels\", request, str(zip_filename))\n",
    "            print(f\"✔ Saved to {zip_filename}\")\n",
    "\n",
    "            # Extract only the data_stream-oper_stepType-instant.nc file\n",
    "            with zipfile.ZipFile(zip_filename, 'r') as zip_ref:\n",
    "                target_file = \"data_stream-oper_stepType-instant.nc\"\n",
    "                if target_file in zip_ref.namelist():\n",
    "                    print(f\"Extracting {target_file}...\")\n",
    "                    zip_ref.extract(target_file, path=output_dir)\n",
    "                    extracted_path = output_dir / target_file\n",
    "\n",
    "                    # Rename extracted file\n",
    "                    new_nc_filename = output_dir / f\"era5_us_{year_str}_{month_str}.nc\"\n",
    "                    extracted_path.rename(new_nc_filename)\n",
    "                    print(f\"✔ Extracted and renamed to {new_nc_filename}\")\n",
    "                else:\n",
    "                    print(f\"⚠️ {target_file} not found in zip {zip_filename.name}\")\n",
    "\n",
    "            # Remove the zip file after extraction\n",
    "            zip_filename.unlink()\n",
    "            print(f\"Deleted zip file {zip_filename.name}\")\n",
    "\n",
    "        except Exception as e:\n",
    "            print(f\"✘ Failed for {year_str}-{month_str}: {e}\")\n"
   ]
  },
  {
   "cell_type": "code",
   "execution_count": null,
   "id": "be5a3d42",
   "metadata": {},
   "outputs": [],
   "source": []
  }
 ],
 "metadata": {
  "kernelspec": {
   "display_name": "base",
   "language": "python",
   "name": "python3"
  },
  "language_info": {
   "codemirror_mode": {
    "name": "ipython",
    "version": 3
   },
   "file_extension": ".py",
   "mimetype": "text/x-python",
   "name": "python",
   "nbconvert_exporter": "python",
   "pygments_lexer": "ipython3",
   "version": "3.12.7"
  }
 },
 "nbformat": 4,
 "nbformat_minor": 5
}
