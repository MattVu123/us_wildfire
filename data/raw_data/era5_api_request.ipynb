{
 "cells": [
  {
   "cell_type": "markdown",
   "id": "df902019",
   "metadata": {},
   "source": [
    "# API Request"
   ]
  },
  {
   "cell_type": "code",
   "execution_count": 1,
   "id": "e73d3c5a",
   "metadata": {},
   "outputs": [],
   "source": [
    "import cdsapi\n",
    "from pathlib import Path\n",
    "import zipfile"
   ]
  },
  {
   "cell_type": "code",
   "execution_count": null,
   "id": "818ead3f",
   "metadata": {},
   "outputs": [
    {
     "name": "stderr",
     "output_type": "stream",
     "text": [
      "2025-06-03 17:08:53,025 INFO [2024-09-26T00:00:00] Watch our [Forum](https://forum.ecmwf.int/) for Announcements, news and other discussed topics.\n"
     ]
    },
    {
     "name": "stdout",
     "output_type": "stream",
     "text": [
      "Downloading ERA5 data for 2020-01...\n"
     ]
    },
    {
     "name": "stderr",
     "output_type": "stream",
     "text": [
      "2025-06-03 17:08:53,665 INFO Request ID is f4df2478-960b-4192-a484-a2390df9a750\n",
      "2025-06-03 17:08:54,083 INFO status has been updated to accepted\n",
      "2025-06-03 17:15:14,500 INFO status has been updated to successful\n"
     ]
    },
    {
     "data": {
      "application/vnd.jupyter.widget-view+json": {
       "model_id": "e34d70209b2941df807785924743daef",
       "version_major": 2,
       "version_minor": 0
      },
      "text/plain": [
       "a18bda576afe6bc4a13aee4b1bd7a1e4.zip:   0%|          | 0.00/788M [00:00<?, ?B/s]"
      ]
     },
     "metadata": {},
     "output_type": "display_data"
    },
    {
     "name": "stdout",
     "output_type": "stream",
     "text": [
      "✔ Saved to c:\\College\\SUMMER 2025 SEMESTER\\us_wildfire\\data\\raw_data\\era5_downloads\\era5_us_2020_01.zip\n",
      "Extracting data_stream-oper_stepType-instant.nc...\n",
      "✔ Extracted and renamed to c:\\College\\SUMMER 2025 SEMESTER\\us_wildfire\\data\\raw_data\\era5_downloads\\era5_us_2020_01.nc\n",
      "Deleted zip file era5_us_2020_01.zip\n",
      "Downloading ERA5 data for 2020-02...\n"
     ]
    },
    {
     "name": "stderr",
     "output_type": "stream",
     "text": [
      "2025-06-03 17:18:22,329 INFO Request ID is 8f1c46c6-3353-4c9b-babd-472d3770b491\n",
      "2025-06-03 17:18:22,471 INFO status has been updated to accepted\n",
      "2025-06-03 17:18:44,211 INFO status has been updated to running\n",
      "2025-06-03 17:24:42,813 INFO status has been updated to successful\n"
     ]
    },
    {
     "data": {
      "application/vnd.jupyter.widget-view+json": {
       "model_id": "ecbc22bf80944ff786d4549f06414e84",
       "version_major": 2,
       "version_minor": 0
      },
      "text/plain": [
       "3d2ba56c0c419866f3546a6ed113867a.zip:   0%|          | 0.00/723M [00:00<?, ?B/s]"
      ]
     },
     "metadata": {},
     "output_type": "display_data"
    },
    {
     "name": "stdout",
     "output_type": "stream",
     "text": [
      "✔ Saved to c:\\College\\SUMMER 2025 SEMESTER\\us_wildfire\\data\\raw_data\\era5_downloads\\era5_us_2020_02.zip\n",
      "Extracting data_stream-oper_stepType-instant.nc...\n",
      "✔ Extracted and renamed to c:\\College\\SUMMER 2025 SEMESTER\\us_wildfire\\data\\raw_data\\era5_downloads\\era5_us_2020_02.nc\n",
      "Deleted zip file era5_us_2020_02.zip\n",
      "Downloading ERA5 data for 2020-03...\n"
     ]
    },
    {
     "name": "stderr",
     "output_type": "stream",
     "text": [
      "2025-06-03 17:38:14,000 INFO Request ID is bc0b1a00-17a2-463b-804c-c0aabb15d682\n",
      "2025-06-03 17:38:14,170 INFO status has been updated to accepted\n",
      "2025-06-03 17:38:47,625 INFO status has been updated to running\n",
      "2025-06-03 17:44:34,693 INFO status has been updated to successful\n"
     ]
    },
    {
     "data": {
      "application/vnd.jupyter.widget-view+json": {
       "model_id": "3f0212b97d1e4f40a6a5e5b931ff9f9f",
       "version_major": 2,
       "version_minor": 0
      },
      "text/plain": [
       "31db6af4ef00ecb970f6af67b0ee837b.zip:   0%|          | 0.00/782M [00:00<?, ?B/s]"
      ]
     },
     "metadata": {},
     "output_type": "display_data"
    },
    {
     "name": "stdout",
     "output_type": "stream",
     "text": [
      "✔ Saved to c:\\College\\SUMMER 2025 SEMESTER\\us_wildfire\\data\\raw_data\\era5_downloads\\era5_us_2020_03.zip\n",
      "Extracting data_stream-oper_stepType-instant.nc...\n",
      "✔ Extracted and renamed to c:\\College\\SUMMER 2025 SEMESTER\\us_wildfire\\data\\raw_data\\era5_downloads\\era5_us_2020_03.nc\n",
      "Deleted zip file era5_us_2020_03.zip\n",
      "Downloading ERA5 data for 2020-04...\n"
     ]
    },
    {
     "name": "stderr",
     "output_type": "stream",
     "text": [
      "2025-06-03 17:47:09,977 INFO Request ID is 052dfedd-a938-47ef-bfb5-6c7307c0272d\n",
      "2025-06-03 17:47:10,253 INFO status has been updated to accepted\n",
      "2025-06-03 17:47:24,385 INFO status has been updated to running\n",
      "2025-06-03 17:55:31,520 INFO status has been updated to successful\n"
     ]
    },
    {
     "data": {
      "application/vnd.jupyter.widget-view+json": {
       "model_id": "c697e428988e4beda79e36a35bb238c7",
       "version_major": 2,
       "version_minor": 0
      },
      "text/plain": [
       "e60d0fae2e4a520a489d1df3a8d33e22.zip:   0%|          | 0.00/763M [00:00<?, ?B/s]"
      ]
     },
     "metadata": {},
     "output_type": "display_data"
    },
    {
     "name": "stdout",
     "output_type": "stream",
     "text": [
      "✔ Saved to c:\\College\\SUMMER 2025 SEMESTER\\us_wildfire\\data\\raw_data\\era5_downloads\\era5_us_2020_04.zip\n",
      "Extracting data_stream-oper_stepType-instant.nc...\n",
      "✔ Extracted and renamed to c:\\College\\SUMMER 2025 SEMESTER\\us_wildfire\\data\\raw_data\\era5_downloads\\era5_us_2020_04.nc\n",
      "Deleted zip file era5_us_2020_04.zip\n",
      "Downloading ERA5 data for 2020-05...\n"
     ]
    },
    {
     "name": "stderr",
     "output_type": "stream",
     "text": [
      "2025-06-03 17:58:24,964 INFO Request ID is 10c35be2-da86-4074-aeaf-4528c12e366e\n",
      "2025-06-03 17:58:25,325 INFO status has been updated to accepted\n",
      "2025-06-03 17:58:34,376 INFO status has been updated to running\n",
      "2025-06-03 18:04:46,376 INFO status has been updated to successful\n"
     ]
    },
    {
     "data": {
      "application/vnd.jupyter.widget-view+json": {
       "model_id": "400de5f95ca548e8b045e733fb48e497",
       "version_major": 2,
       "version_minor": 0
      },
      "text/plain": [
       "13d5ec8c90bcd3ae57ab543f949c9e31.zip:   0%|          | 0.00/796M [00:00<?, ?B/s]"
      ]
     },
     "metadata": {},
     "output_type": "display_data"
    },
    {
     "name": "stdout",
     "output_type": "stream",
     "text": [
      "✔ Saved to c:\\College\\SUMMER 2025 SEMESTER\\us_wildfire\\data\\raw_data\\era5_downloads\\era5_us_2020_05.zip\n",
      "Extracting data_stream-oper_stepType-instant.nc...\n",
      "✔ Extracted and renamed to c:\\College\\SUMMER 2025 SEMESTER\\us_wildfire\\data\\raw_data\\era5_downloads\\era5_us_2020_05.nc\n",
      "Deleted zip file era5_us_2020_05.zip\n",
      "Downloading ERA5 data for 2020-06...\n"
     ]
    },
    {
     "name": "stderr",
     "output_type": "stream",
     "text": [
      "2025-06-03 18:30:45,141 INFO Request ID is 99d44e4e-7ec5-4c1f-aa59-bb5fa01ad378\n",
      "2025-06-03 18:30:45,291 INFO status has been updated to accepted\n",
      "2025-06-03 18:31:36,162 INFO status has been updated to running\n",
      "2025-06-03 18:39:06,387 INFO status has been updated to successful\n"
     ]
    },
    {
     "data": {
      "application/vnd.jupyter.widget-view+json": {
       "model_id": "567b3d48eb5044fa9b93fbdce8f32009",
       "version_major": 2,
       "version_minor": 0
      },
      "text/plain": [
       "8950374b10649e1163ab3642ae8ab534.zip:   0%|          | 0.00/766M [00:00<?, ?B/s]"
      ]
     },
     "metadata": {},
     "output_type": "display_data"
    }
   ],
   "source": [
    "# ===============================\n",
    "# CONFIGURATION – EASY TO MODIFY\n",
    "# ===============================\n",
    "years = range(2020, 2026)  # From 2020 to 2025 inclusive\n",
    "months = range(1, 13)      # January to December\n",
    "area = [71.5, -179.1, 18.9, -66.9]  # US bounding box: [N, W, S, E]\n",
    "output_dir = Path.cwd() / \"era5_downloads\"\n",
    "output_dir.mkdir(exist_ok=True)\n",
    "\n",
    "variables = [\n",
    "    \"10m_u_component_of_wind\",\n",
    "    \"10m_v_component_of_wind\",\n",
    "    \"2m_dewpoint_temperature\",\n",
    "    \"2m_temperature\",\n",
    "    \"total_precipitation\",\n",
    "    \"mean_sea_level_pressure\",\n",
    "    \"surface_pressure\"\n",
    "]\n",
    "\n",
    "# ===============================\n",
    "# Download + Extract loop\n",
    "# ===============================\n",
    "client = cdsapi.Client()\n",
    "\n",
    "for year in years:\n",
    "    for month in months:\n",
    "        year_str = str(year)\n",
    "        month_str = str(month).zfill(2)\n",
    "        days = [str(day).zfill(2) for day in range(1, 32)]  # CDS handles invalid days\n",
    "\n",
    "        request = {\n",
    "            \"product_type\": \"reanalysis\",\n",
    "            \"variable\": variables,\n",
    "            \"year\": year_str,\n",
    "            \"month\": month_str,\n",
    "            \"day\": days,\n",
    "            \"time\": [f\"{h:02d}:00\" for h in range(24)],\n",
    "            \"data_format\": \"netcdf\",\n",
    "            \"download_format\": \"zip\",\n",
    "            \"area\": area,\n",
    "        }\n",
    "\n",
    "        zip_filename = output_dir / f\"era5_us_{year_str}_{month_str}.zip\"\n",
    "        print(f\"Downloading ERA5 data for {year_str}-{month_str}...\")\n",
    "\n",
    "        try:\n",
    "            client.retrieve(\"reanalysis-era5-single-levels\", request, str(zip_filename))\n",
    "            print(f\"✔ Saved to {zip_filename}\")\n",
    "\n",
    "            # Extract only the data_stream-oper_stepType-instant.nc file\n",
    "            with zipfile.ZipFile(zip_filename, 'r') as zip_ref:\n",
    "                target_file = \"data_stream-oper_stepType-instant.nc\"\n",
    "                if target_file in zip_ref.namelist():\n",
    "                    print(f\"Extracting {target_file}...\")\n",
    "                    zip_ref.extract(target_file, path=output_dir)\n",
    "                    extracted_path = output_dir / target_file\n",
    "\n",
    "                    # Rename extracted file\n",
    "                    new_nc_filename = output_dir / f\"era5_us_{year_str}_{month_str}.nc\"\n",
    "                    extracted_path.rename(new_nc_filename)\n",
    "                    print(f\"✔ Extracted and renamed to {new_nc_filename}\")\n",
    "                else:\n",
    "                    print(f\"⚠️ {target_file} not found in zip {zip_filename.name}\")\n",
    "\n",
    "            # Remove the zip file after extraction\n",
    "            zip_filename.unlink()\n",
    "            print(f\"Deleted zip file {zip_filename.name}\")\n",
    "\n",
    "        except Exception as e:\n",
    "            print(f\"✘ Failed for {year_str}-{month_str}: {e}\")\n"
   ]
  },
  {
   "cell_type": "code",
   "execution_count": null,
   "id": "be5a3d42",
   "metadata": {},
   "outputs": [],
   "source": []
  }
 ],
 "metadata": {
  "kernelspec": {
   "display_name": "base",
   "language": "python",
   "name": "python3"
  },
  "language_info": {
   "codemirror_mode": {
    "name": "ipython",
    "version": 3
   },
   "file_extension": ".py",
   "mimetype": "text/x-python",
   "name": "python",
   "nbconvert_exporter": "python",
   "pygments_lexer": "ipython3",
   "version": "3.12.7"
  }
 },
 "nbformat": 4,
 "nbformat_minor": 5
}
