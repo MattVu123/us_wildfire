{
 "cells": [
  {
   "cell_type": "code",
   "execution_count": 1,
   "id": "c97e1f4a",
   "metadata": {},
   "outputs": [],
   "source": [
    "import pandas as pd\n",
    "import geopandas as gpd\n",
    "import numpy as np\n",
    "from datetime import datetime\n",
    "#requires shp data from wildfire atlas data where size * 247.1 >= 1000. set unique val to be Fire_id * year \n",
    "#make sure that shpaefiles for wildfire atlas perimiters 2020-2024 are in a folder, shp files need .shp, .prj, .shx. and .dbf so extract all!\n",
    "from pathlib import Path\n",
    "wildfire_perim = Path(r'C:\\Users\\Azeem\\Documents\\MS\\FInal Proj\\Data\\Wildfire Atlas\\shp')\n",
    "\n",
    "shp_list = list(wildfire_perim.glob('*.shp'))\n"
   ]
  },
  {
   "cell_type": "code",
   "execution_count": 2,
   "id": "711af623",
   "metadata": {},
   "outputs": [
    {
     "name": "stdout",
     "output_type": "stream",
     "text": [
      "evaluating 2020 data\n"
     ]
    },
    {
     "name": "stderr",
     "output_type": "stream",
     "text": [
      "C:\\Users\\Azeem\\AppData\\Roaming\\Python\\Python311\\site-packages\\geopandas\\geodataframe.py:1981: SettingWithCopyWarning: \n",
      "A value is trying to be set on a copy of a slice from a DataFrame.\n",
      "Try using .loc[row_indexer,col_indexer] = value instead\n",
      "\n",
      "See the caveats in the documentation: https://pandas.pydata.org/pandas-docs/stable/user_guide/indexing.html#returning-a-view-versus-a-copy\n",
      "  super().__setitem__(key, value)\n",
      "C:\\Users\\Azeem\\AppData\\Roaming\\Python\\Python311\\site-packages\\geopandas\\geodataframe.py:1981: SettingWithCopyWarning: \n",
      "A value is trying to be set on a copy of a slice from a DataFrame.\n",
      "Try using .loc[row_indexer,col_indexer] = value instead\n",
      "\n",
      "See the caveats in the documentation: https://pandas.pydata.org/pandas-docs/stable/user_guide/indexing.html#returning-a-view-versus-a-copy\n",
      "  super().__setitem__(key, value)\n"
     ]
    },
    {
     "name": "stdout",
     "output_type": "stream",
     "text": [
      "evaluating 2021 data\n"
     ]
    },
    {
     "name": "stderr",
     "output_type": "stream",
     "text": [
      "C:\\Users\\Azeem\\AppData\\Roaming\\Python\\Python311\\site-packages\\pyogrio\\raw.py:198: RuntimeWarning: C:\\Users\\Azeem\\Documents\\MS\\FInal Proj\\Data\\Wildfire Atlas\\shp\\GFA_v20240409_perimeters_2021.shp contains polygon(s) with rings with invalid winding order. Autocorrecting them, but that shapefile should be corrected using ogr2ogr for example.\n",
      "  return ogr_read(\n",
      "C:\\Users\\Azeem\\AppData\\Roaming\\Python\\Python311\\site-packages\\geopandas\\geodataframe.py:1981: SettingWithCopyWarning: \n",
      "A value is trying to be set on a copy of a slice from a DataFrame.\n",
      "Try using .loc[row_indexer,col_indexer] = value instead\n",
      "\n",
      "See the caveats in the documentation: https://pandas.pydata.org/pandas-docs/stable/user_guide/indexing.html#returning-a-view-versus-a-copy\n",
      "  super().__setitem__(key, value)\n",
      "C:\\Users\\Azeem\\AppData\\Roaming\\Python\\Python311\\site-packages\\geopandas\\geodataframe.py:1981: SettingWithCopyWarning: \n",
      "A value is trying to be set on a copy of a slice from a DataFrame.\n",
      "Try using .loc[row_indexer,col_indexer] = value instead\n",
      "\n",
      "See the caveats in the documentation: https://pandas.pydata.org/pandas-docs/stable/user_guide/indexing.html#returning-a-view-versus-a-copy\n",
      "  super().__setitem__(key, value)\n"
     ]
    },
    {
     "name": "stdout",
     "output_type": "stream",
     "text": [
      "evaluating 2022 data\n"
     ]
    },
    {
     "name": "stderr",
     "output_type": "stream",
     "text": [
      "C:\\Users\\Azeem\\AppData\\Roaming\\Python\\Python311\\site-packages\\geopandas\\geodataframe.py:1981: SettingWithCopyWarning: \n",
      "A value is trying to be set on a copy of a slice from a DataFrame.\n",
      "Try using .loc[row_indexer,col_indexer] = value instead\n",
      "\n",
      "See the caveats in the documentation: https://pandas.pydata.org/pandas-docs/stable/user_guide/indexing.html#returning-a-view-versus-a-copy\n",
      "  super().__setitem__(key, value)\n",
      "C:\\Users\\Azeem\\AppData\\Roaming\\Python\\Python311\\site-packages\\geopandas\\geodataframe.py:1981: SettingWithCopyWarning: \n",
      "A value is trying to be set on a copy of a slice from a DataFrame.\n",
      "Try using .loc[row_indexer,col_indexer] = value instead\n",
      "\n",
      "See the caveats in the documentation: https://pandas.pydata.org/pandas-docs/stable/user_guide/indexing.html#returning-a-view-versus-a-copy\n",
      "  super().__setitem__(key, value)\n"
     ]
    },
    {
     "name": "stdout",
     "output_type": "stream",
     "text": [
      "evaluating 2023 data\n"
     ]
    },
    {
     "name": "stderr",
     "output_type": "stream",
     "text": [
      "C:\\Users\\Azeem\\AppData\\Roaming\\Python\\Python311\\site-packages\\geopandas\\geodataframe.py:1981: SettingWithCopyWarning: \n",
      "A value is trying to be set on a copy of a slice from a DataFrame.\n",
      "Try using .loc[row_indexer,col_indexer] = value instead\n",
      "\n",
      "See the caveats in the documentation: https://pandas.pydata.org/pandas-docs/stable/user_guide/indexing.html#returning-a-view-versus-a-copy\n",
      "  super().__setitem__(key, value)\n",
      "C:\\Users\\Azeem\\AppData\\Roaming\\Python\\Python311\\site-packages\\geopandas\\geodataframe.py:1981: SettingWithCopyWarning: \n",
      "A value is trying to be set on a copy of a slice from a DataFrame.\n",
      "Try using .loc[row_indexer,col_indexer] = value instead\n",
      "\n",
      "See the caveats in the documentation: https://pandas.pydata.org/pandas-docs/stable/user_guide/indexing.html#returning-a-view-versus-a-copy\n",
      "  super().__setitem__(key, value)\n"
     ]
    },
    {
     "name": "stdout",
     "output_type": "stream",
     "text": [
      "evaluating 2024 data\n"
     ]
    },
    {
     "name": "stderr",
     "output_type": "stream",
     "text": [
      "C:\\Users\\Azeem\\AppData\\Roaming\\Python\\Python311\\site-packages\\geopandas\\geodataframe.py:1981: SettingWithCopyWarning: \n",
      "A value is trying to be set on a copy of a slice from a DataFrame.\n",
      "Try using .loc[row_indexer,col_indexer] = value instead\n",
      "\n",
      "See the caveats in the documentation: https://pandas.pydata.org/pandas-docs/stable/user_guide/indexing.html#returning-a-view-versus-a-copy\n",
      "  super().__setitem__(key, value)\n",
      "C:\\Users\\Azeem\\AppData\\Roaming\\Python\\Python311\\site-packages\\geopandas\\geodataframe.py:1981: SettingWithCopyWarning: \n",
      "A value is trying to be set on a copy of a slice from a DataFrame.\n",
      "Try using .loc[row_indexer,col_indexer] = value instead\n",
      "\n",
      "See the caveats in the documentation: https://pandas.pydata.org/pandas-docs/stable/user_guide/indexing.html#returning-a-view-versus-a-copy\n",
      "  super().__setitem__(key, value)\n"
     ]
    },
    {
     "name": "stdout",
     "output_type": "stream",
     "text": [
      "Wrote CSV C\n"
     ]
    }
   ],
   "source": [
    "def createBurnData(shp_list:list[Path]):\n",
    "    import csv\n",
    "    row_data = []\n",
    "    for shp in shp_list:\n",
    "        csv_fields = ['unique_id','size (acre2)','perimiter (acre)','startdate','enddate','duration','fire_line (acre)','fire_spread (acre2/day)', 'fire_speed (acre/day)', 'dominant_direction','geometry']\n",
    "        year = str(shp)[-8:-4]\n",
    "        print(f'evaluating {year} data')\n",
    "        shp_gdf = gpd.read_file(shp)\n",
    "        #add make valid because of invalid geometry \n",
    "        shp_gdf['geometry'] = shp_gdf.geometry.make_valid()\n",
    "        shp_gdf_check = shp_gdf[shp_gdf['size'].notna()]\n",
    "        shp_gdf_check['size_acres'] = shp_gdf_check['size'] * 247.1\n",
    "        filtered_gdf = shp_gdf_check[(shp_gdf_check['size_acres'] >= 1000) & (shp_gdf_check['start_date'].notna()) & (shp_gdf_check['end_date']).notna()]\n",
    "        filtered_gdf['start_date'] = (pd.to_datetime(filtered_gdf['start_date']))\n",
    "        filtered_gdf['end_date'] = (pd.to_datetime(filtered_gdf['end_date']))\n",
    "        for i,values in filtered_gdf.iterrows():\n",
    "            unique_id = f\"{year}_{values['fire_ID']}\"\n",
    "            size = values['size_acres']\n",
    "            perim = values['perimeter'] * 247.1\n",
    "            start = values['start_date']\n",
    "            end = values['end_date']\n",
    "            dur = values['duration']\n",
    "            fireline = values['fire_line'] * 247.1\n",
    "            spread = values['spread'] * 247.1\n",
    "            speed = values['speed'] * 247.1\n",
    "            direction = values['direction']\n",
    "            geom = values['geometry']\n",
    "            #only grab fires within the year, dont repeat overlapping fires\n",
    "            if start.year == int(year) and end.year == int(year):\n",
    "                row_data.append([unique_id, size, perim, start, end, dur, fireline, spread, speed, direction, geom])\n",
    "    return csv_fields, row_data\n",
    "\n",
    "csv_fields, info = createBurnData(shp_list)\n",
    "\n",
    "def writecsv(row_data:list[list], csv_fields:list[str]):\n",
    "    import csv\n",
    "    with open(r'C:\\Users\\Azeem\\Documents\\MS\\FInal Proj\\Data\\Wildfire Atlas\\BurnData.csv','w' ,newline='') as w:\n",
    "        writer = csv.writer(w)\n",
    "        writer.writerow(csv_fields)\n",
    "        writer.writerows(row_data)\n",
    "    print('Wrote CSV')\n",
    "writecsv(info,csv_fields)\n",
    "        "
   ]
  }
 ],
 "metadata": {
  "kernelspec": {
   "display_name": "Python 3 (ipykernel)",
   "language": "python",
   "name": "python3"
  },
  "language_info": {
   "codemirror_mode": {
    "name": "ipython",
    "version": 3
   },
   "file_extension": ".py",
   "mimetype": "text/x-python",
   "name": "python",
   "nbconvert_exporter": "python",
   "pygments_lexer": "ipython3",
   "version": "3.11.5"
  }
 },
 "nbformat": 4,
 "nbformat_minor": 5
}
